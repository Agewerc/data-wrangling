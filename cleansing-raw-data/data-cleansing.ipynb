{
 "cells": [
  {
   "cell_type": "markdown",
   "metadata": {},
   "source": [
    "# FIT5196 Assessment 3\n",
    "\n",
    "###  Group 103:\n",
    "\n",
    "##### Student Name: Alan Gewerc\n",
    "##### Student ID: 29961246\n",
    "##### Student Name: Cristiana Garcia Gewerc\n",
    "##### Student ID: 30088887\n",
    "\n",
    "\n",
    "Date: 07/10/2019\n",
    "\n",
    "Environment: Python 3.7.1 and Jupyter Notebook 5.7.4 (64-bit)\n",
    "\n",
    "Libraries used:\n",
    "* pandas 0.23.4 (for data frames, included in Anaconda Python 3.7.1) \n",
    "* re 2.2.1 (for regular expressions, included in Anaconda Python 3.7.1) \n",
    "* matplotlib.pyplot 3.1.0 (for data visualization, included in Anaconda Python 3.7.1)\n",
    "* numpy 1.15.4 (for array operations, included in Anaconda Python 3.7.1)\n",
    "* numpy.linalg (for solving system of linear equations)\n",
    "* itertools (for permutations and chain)\n",
    "* networkx 2.3 (for Dijkstra algorithm, included in Anaconda Python 3.7.1)\n",
    "* sklearn.linear_model 0.20.1 (for linear regression)\n",
    "\n",
    "\n",
    "# 1. Introduction\n",
    "\n",
    "This assignment comprises the execution of different data cleasing and exploration tasks applied to Food Delivery data from a restaurant in Melbourne, in CSV format. There are a total of 1500 menu orders in three files of 210 KB: `dirty_data`, `missing_data`, `outlier_data`. There are also three support files `branches.csv`, `edges.csv` and `nodes.csv`, of total 2.2 MB. We are required to perform graphical and/or non-graphical EDA methods to understand the data first and then find the data problems. The required tasks are the following:\n",
    "\n",
    "1. Detect and fix error in the dirty data: The dataset `dirty_data` contains in most of its columns wrong values that must be identified and replaced.\n",
    "2. Detect and remove outliers: The dataset `outlier_data` contains a relevant number of outliers w.r.t. `delivery_fee` attribute, which would bias any regression or model used to fit it. They will be removed from the dataset.\n",
    "3. Data Imputation: The dataset `missing_data` contains a relevant number of missing values in some of its columns. They will identified and imputation will me made by the most accurate possible method.\n",
    "\n",
    "More details for each task will be given in the following sections.\n",
    "\n",
    "# 2. Import Libraries"
   ]
  },
  {
   "cell_type": "code",
   "execution_count": 1,
   "metadata": {},
   "outputs": [],
   "source": [
    "import re\n",
    "import pandas as pd\n",
    "import matplotlib.pyplot as plt\n",
    "import numpy as np\n",
    "import numpy.linalg as la\n",
    "from itertools import chain, permutations\n",
    "import networkx as nx\n",
    "from sklearn.linear_model import LinearRegression\n",
    "%matplotlib inline"
   ]
  },
  {
   "cell_type": "markdown",
   "metadata": {},
   "source": [
    "# 3. Dirty Data\n",
    "\n",
    "In the file `dirty_data.csv`, any row can carry no more than one anomaly. (i.e. there can only be one anomaly in a single row and all anomalies are fixable).\n",
    "\n",
    "We need to explore the data and fix them all.\n",
    "\n"
   ]
  },
  {
   "cell_type": "markdown",
   "metadata": {},
   "source": [
    "## 3.1. Read Datasets\n",
    "\n",
    "We will load into pandas not only the `dirty_data.csv` which is our focus now, but also the `outlier_data.csv` and `missing_data.csv` which will help us to identify the true values of our dirty data. Additionaly, we load `edges.csv`, `branches.csv` and `nodes.csv` that are going to auxiliate us when recalculating the distances detween branches and consumers."
   ]
  },
  {
   "cell_type": "code",
   "execution_count": 2,
   "metadata": {},
   "outputs": [],
   "source": [
    "dirty_data = pd.read_csv(\"data/dirty_data.csv\", index_col=0)\n",
    "outlier_data = pd.read_csv(\"data/outlier_data.csv\", index_col=0)\n",
    "missing_data = pd.read_csv(\"data/missing_data.csv\", index_col=0)\n",
    "edge_data = pd.read_csv(\"data/edges.csv\", index_col=0)\n",
    "branches_data = pd.read_csv(\"data/branches.csv\")\n",
    "nodes_data = pd.read_csv(\"data/nodes.csv\")"
   ]
  },
  {
   "cell_type": "markdown",
   "metadata": {},
   "source": [
    "We will do our exploration process column-by-column, starting with `date`, `branch_code`, them retrieving the menu to explore `order_type`, `order_items` and `order_price`. After, we follow to `latitude`, `longitude` and `distance` analysis, finishing with `customerHasLoyaty?`.\n",
    "\n",
    "## 3.2. date\n",
    "\n",
    "It was informed the proper format for dates is: `YYYY-MM-DD`. <br>\n",
    "Therefore, we will check if all dates are according to this pattern or not.<br>\n",
    "We will make use of the library [regex](https://docs.python.org/3/library/re.html), which is great for identifying patterns in data. \n"
   ]
  },
  {
   "cell_type": "markdown",
   "metadata": {},
   "source": [
    "The pattern `20\\d\\d-(?:[0][0-9]|[1][0-2])-\\d\\d` match all elements(dates) that:\n",
    "- Start with 20 (we mande a premisse that all orders are in this millenium). Year has four digits. \n",
    "- Month is the range of 01 to 12.\n",
    "- Have two digits in the end for days. <br>\n",
    "One might notice the charcaters `?:` in the patterns, that is supposed to make the pattern `(?:[0][0-9]|[1][0-2])` a [non-capturing group](https://www.regular-expressions.info/brackets.html). One might also notice that the pattern is not flawless, but It covers all possible mistakes that we expact to find."
   ]
  },
  {
   "cell_type": "code",
   "execution_count": 3,
   "metadata": {},
   "outputs": [],
   "source": [
    "date_pattern = '20\\d\\d-(?:[0][0-9]|[1][0-2])-\\d\\d'"
   ]
  },
  {
   "cell_type": "markdown",
   "metadata": {},
   "source": [
    "We will identify and place in a list all elements that does not match the pattern in order to analyse then: "
   ]
  },
  {
   "cell_type": "code",
   "execution_count": 4,
   "metadata": {},
   "outputs": [
    {
     "name": "stdout",
     "output_type": "stream",
     "text": [
      "Number of dates with different pattern: 37\n",
      "Dates:\n",
      " ['2018-17-03', '02-03-2018', '02-12-2018', '2018-16-04', '2018-26-06', '2018-22-10', '2018-22-02', '08-02-2018', '07-06-2018', '2018-25-08', '2018-13-09', '2018-20-05', '2018-14-11', '2018-27-06', '2018-26-02', '12-06-2018', '2018-21-05', '2018-20-08', '2018-17-12', '12-08-2018', '05-06-2018', '2018-29-11', '2018-15-02', '07-04-2018', '07-05-2018', '2018-18-02', '2018-17-03', '2018-29-05', '10-07-2018', '2018-23-10', '2018-20-08', '11-09-2018', '2018-27-11', '2018-15-01', '2018-21-02', '2018-27-10', '11-01-2018']\n"
     ]
    }
   ],
   "source": [
    "except_dates = list(dirty_data[dirty_data.date.str.match(date_pattern) == False].date)\n",
    "print('Number of dates with different pattern:', len(except_dates))\n",
    "print('Dates:\\n',except_dates)"
   ]
  },
  {
   "cell_type": "markdown",
   "metadata": {},
   "source": [
    "Analysing the dates that are not according to stablished, we can see that this dates are in different patters, which is what we expected previously. It is possible to observe in the data the following formats:\n",
    "- YYYY-DD-MM\n",
    "- DD-MM-YYYY <br><br>\n",
    "\n",
    "We will start making corrections. Our strategy will be the following:\n",
    "1. Break the dirty data table into three tables - one for each pattern we have found (two wrong, and one correct).\n",
    "2. Make corrections in the date column in each of those.\n",
    "3. Concatenate than back, creating a new dirty table."
   ]
  },
  {
   "cell_type": "code",
   "execution_count": 5,
   "metadata": {},
   "outputs": [],
   "source": [
    "dirty_correct = dirty_data[dirty_data.date.str.match(date_pattern)]['date'] # correct table\n",
    "\n",
    "year_swtched_pattern = '\\d\\d-(?:[0][0-9]|[1][0-2])-20\\d\\d'\n",
    "dirty_year_switched = dirty_data[dirty_data.date.str.match(year_swtched_pattern)]['date']  \n",
    "\n",
    "# Creating the last table by filtering other tables\n",
    "dirty_month_switched = dirty_data[ ~dirty_data.isin(dirty_correct)]['date'].dropna() \n",
    "dirty_month_switched = dirty_month_switched[ ~dirty_month_switched.isin(dirty_year_switched)].dropna()"
   ]
  },
  {
   "cell_type": "code",
   "execution_count": 6,
   "metadata": {},
   "outputs": [
    {
     "name": "stdout",
     "output_type": "stream",
     "text": [
      "500\n"
     ]
    }
   ],
   "source": [
    "# check length to see if we broke the table correctly\n",
    "print(len(dirty_correct) + len(dirty_year_switched) + len(dirty_month_switched))"
   ]
  },
  {
   "cell_type": "markdown",
   "metadata": {},
   "source": [
    "Now, we have one table for each pattern of date. We will convert all dates into dateformat using `datetime` from `pandas` and  the necessary corrections to have the pattern YYYY-MM-DD."
   ]
  },
  {
   "cell_type": "code",
   "execution_count": 7,
   "metadata": {},
   "outputs": [],
   "source": [
    "dirty_correct = pd.to_datetime(dirty_correct, format = '%Y-%m-%d').dt.strftime('%Y-%m-%d')\n",
    "dirty_year_switched = pd.to_datetime(dirty_year_switched, format = '%d-%m-%Y').dt.strftime('%Y-%m-%d')\n",
    "dirty_month_switched = pd.to_datetime(dirty_month_switched, format = '%Y-%d-%m').dt.strftime('%Y-%m-%d')"
   ]
  },
  {
   "cell_type": "markdown",
   "metadata": {},
   "source": [
    "We are ready to replace the `date` values in `dirty_data` by the proper ones given its case (correct, year switched or month switched)."
   ]
  },
  {
   "cell_type": "code",
   "execution_count": 8,
   "metadata": {},
   "outputs": [],
   "source": [
    "dirty_data.loc[dirty_correct.index, 'date'] = dirty_correct\n",
    "dirty_data.loc[dirty_year_switched.index, 'date'] = dirty_year_switched\n",
    "dirty_data.loc[dirty_month_switched.index, 'date'] = dirty_month_switched"
   ]
  },
  {
   "cell_type": "markdown",
   "metadata": {},
   "source": [
    "Test if now all elements in the date column fit the `date_pattern`:"
   ]
  },
  {
   "cell_type": "code",
   "execution_count": 9,
   "metadata": {},
   "outputs": [
    {
     "name": "stdout",
     "output_type": "stream",
     "text": [
      "Number of dates with different pattern: 0\n",
      "Dates:\n",
      " []\n"
     ]
    }
   ],
   "source": [
    "except_dates = list(dirty_data[dirty_data.date.str.match(date_pattern) == False].date)\n",
    "print('Number of dates with different pattern:', len(except_dates))\n",
    "print('Dates:\\n',except_dates)"
   ]
  },
  {
   "cell_type": "markdown",
   "metadata": {},
   "source": [
    "Perfect, no more dates in the wrong format, we have corrected 37 dates. We will work now on `branch_code`.\n",
    "\n",
    "## 3.3. branch_code\n",
    "\n",
    "Lets explore all unique elements, we will use the method `value_counts` to see each elemement and how many times it repeats itself. We have found the pandas function in this [link](https://pandas.pydata.org/pandas-docs/stable/reference/api/pandas.Series.value_counts.html)  (The `pandas` Project, 2019)."
   ]
  },
  {
   "cell_type": "code",
   "execution_count": 10,
   "metadata": {},
   "outputs": [
    {
     "data": {
      "text/plain": [
       "TP    165\n",
       "NS    153\n",
       "BK    152\n",
       "tp     12\n",
       "bk     10\n",
       "ns      8\n",
       "Name: branch_code, dtype: int64"
      ]
     },
     "execution_count": 10,
     "metadata": {},
     "output_type": "execute_result"
    }
   ],
   "source": [
    "dirty_data['branch_code'].value_counts()"
   ]
  },
  {
   "cell_type": "markdown",
   "metadata": {},
   "source": [
    "We can observe that there are 30 branches in lowercase while the rest is in uppercase. This can be easily corrected by the `upper` method. "
   ]
  },
  {
   "cell_type": "code",
   "execution_count": 11,
   "metadata": {},
   "outputs": [
    {
     "data": {
      "text/plain": [
       "TP    177\n",
       "BK    162\n",
       "NS    161\n",
       "Name: branch_code, dtype: int64"
      ]
     },
     "execution_count": 11,
     "metadata": {},
     "output_type": "execute_result"
    }
   ],
   "source": [
    "dirty_data['branch_code'] = [x.upper() for x in list(dirty_data['branch_code'])]\n",
    "# checking the new counts\n",
    "dirty_data['branch_code'].value_counts()"
   ]
  },
  {
   "cell_type": "markdown",
   "metadata": {},
   "source": [
    "### 3.3.1. Exploring the connection between branch_code and order_id \n",
    "We have explored mistakes in `branch_code` that are associated with invalid observations, but we have an theory that there is an underlying relation between `branch_code` and `order_id`. This theory comes from the fact that usually ID's contain relevant pieces of information of other columns. Firsty we will make some exploration in the column `order_id`.   \n"
   ]
  },
  {
   "cell_type": "code",
   "execution_count": 12,
   "metadata": {},
   "outputs": [
    {
     "name": "stdout",
     "output_type": "stream",
     "text": [
      "Index(['ORDJ10441', 'ORDJ07328', 'ORDK05266', 'ORDY06038', 'ORDA06375',\n",
      "       'ORDI01833', 'ORDI00829', 'ORDI04589', 'ORDI07508', 'ORDY00819',\n",
      "       'ORDZ02532', 'ORDY04900', 'ORDI04047', 'ORDA01581', 'ORDJ10078',\n",
      "       'ORDZ09287', 'ORDY06784', 'ORDA05875', 'ORDJ04693', 'ORDJ00754'],\n",
      "      dtype='object', name='order_id')\n"
     ]
    }
   ],
   "source": [
    "print(dirty_data.index[0:20])"
   ]
  },
  {
   "cell_type": "markdown",
   "metadata": {},
   "source": [
    "We can spot the following from this print: All ids start with 'ORD'. We will take it as premiss and continue our exploration by creating a new column for order_id without the pattern 'ORD'. To achieve it we will make use of the library regex. The pattern `ORD(.+)` will capture everything after ORD, that is our goal. After making this extraction we will sort in a list the result to try to spot relevant patterns."
   ]
  },
  {
   "cell_type": "code",
   "execution_count": 13,
   "metadata": {},
   "outputs": [],
   "source": [
    "pattern_id = r'ORD(.+)'\n",
    "extract = lambda x: re.search(pattern_id, x).group(1)  \n",
    "dirty_data['new_id'] = dirty_data.index.map(extract)"
   ]
  },
  {
   "cell_type": "code",
   "execution_count": 14,
   "metadata": {},
   "outputs": [
    {
     "name": "stdout",
     "output_type": "stream",
     "text": [
      "['A00527', 'A00750', 'A00814', 'A01118', 'A01268', 'A01299', 'A01534', 'A01581', 'A01716', 'A01765', 'A02224', 'A02246', 'A02372', 'A02450', 'A02484', 'A02753', 'A02816', 'A03217', 'A03349', 'A03956']\n"
     ]
    }
   ],
   "source": [
    "print(list(dirty_data['new_id'].sort_values()[0:20]))"
   ]
  },
  {
   "cell_type": "markdown",
   "metadata": {},
   "source": [
    "We can observe that there is clearly a pattern in the first letter, that repets itself many times (A and B), while the number of the ID keeps growing probably according to the number of the order, so probably there isn't any relevant information there. Our next step will be to extract numbers and leave only the forth letter the order ID, again using regex. The pattern `([A-Z])\\d+` will do it. After extracting this letter we will a table using the function `crosstab()`, that will help us see if there is a correlation between the letter and `branch_code`. "
   ]
  },
  {
   "cell_type": "code",
   "execution_count": 15,
   "metadata": {},
   "outputs": [],
   "source": [
    "pattern_id_2 = r'([A-Z])\\d+'\n",
    "extract_2 = lambda x: re.search(pattern_id_2, x).group(1)  \n",
    "dirty_data['new_id'] = dirty_data['new_id'].map(extract_2)"
   ]
  },
  {
   "cell_type": "code",
   "execution_count": 16,
   "metadata": {},
   "outputs": [
    {
     "name": "stdout",
     "output_type": "stream",
     "text": [
      "branch_code  BK  NS  TP\n",
      "new_id                 \n",
      "A            52   2   1\n",
      "B             4   2  54\n",
      "C             1  47   0\n",
      "I             2  49   3\n",
      "J             0   2  53\n",
      "K            56   2   3\n",
      "X            44   1   1\n",
      "Y             3   2  61\n",
      "Z             0  54   1\n"
     ]
    }
   ],
   "source": [
    "print((pd.crosstab(dirty_data['new_id'],dirty_data['branch_code'])))"
   ]
  },
  {
   "cell_type": "markdown",
   "metadata": {},
   "source": [
    "We have spotted a pattern, without any doubt. Each letter is connected to a unique Branch. This will be further confirmed in the missing data analysis. For instance, the letter A is connected with the branch BK and the letter B is connected with TP. The exceptions in this table must ajusted in the `dirty_data` table. let's do it, by creating a dictonarty and applying it to the branch_code column."
   ]
  },
  {
   "cell_type": "code",
   "execution_count": 17,
   "metadata": {},
   "outputs": [],
   "source": [
    "# create a dictonary with letter and branch_code\n",
    "dict_id_branch = {'A':'BK','B':'TP','C':'NS','I':'NS','J':'TP','K':'BK','X':'BK','Y':'TP','Z':'NS'}\n",
    "dirty_data['branch_code'] = dirty_data['new_id'].replace(dict_id_branch)"
   ]
  },
  {
   "cell_type": "code",
   "execution_count": 18,
   "metadata": {},
   "outputs": [
    {
     "name": "stdout",
     "output_type": "stream",
     "text": [
      "branch_code  BK  NS  TP\n",
      "new_id                 \n",
      "A            55   0   0\n",
      "B             0   0  60\n",
      "C             0  48   0\n",
      "I             0  54   0\n",
      "J             0   0  55\n",
      "K            61   0   0\n",
      "X            46   0   0\n",
      "Y             0   0  66\n",
      "Z             0  55   0\n"
     ]
    }
   ],
   "source": [
    "print((pd.crosstab(dirty_data['new_id'],dirty_data['branch_code'])))"
   ]
  },
  {
   "cell_type": "markdown",
   "metadata": {},
   "source": [
    "Perfect, this mistake has also been corrected. To finalize, we will just exclude a column we have created for our analysis."
   ]
  },
  {
   "cell_type": "code",
   "execution_count": 19,
   "metadata": {},
   "outputs": [],
   "source": [
    "del dirty_data['new_id']"
   ]
  },
  {
   "cell_type": "markdown",
   "metadata": {},
   "source": [
    "## 3.4. Retrieving the Menu:\n",
    "\n",
    "As there are no data anomalies, only outliers, in the `outlier_data.csv`, we are going to use this dataset to retrieve the menu. First, we need to find out which item belong to which type of meal.\n",
    "\n",
    "There are three types of meals:\n",
    "\n",
    "a. Breakfast - served during morning (8am - 12pm),\n",
    "\n",
    "b. Lunch - served during afternoon (12:00:01pm - 4pm)\n",
    "\n",
    "c. Dinner - served during evening (4:00:01pm - 8pm)\n",
    "\n",
    "Each meal has a distinct set of items in the menu (ex: breakfast items can't be served during lunch or dinner and so on).\n",
    "\n",
    "Knowing the menu items, the next step is to find out their prices. To achieve this goal, we need to form a system of linear equations relating the items/quantities ordered with their order price. Again, we can use the `outlier_data.csv` to retrieve the data needed for the system."
   ]
  },
  {
   "cell_type": "markdown",
   "metadata": {},
   "source": [
    "To retrieve our menu, we only need the information from 3 columns: `order_type`, `order_items` and `order_price`:"
   ]
  },
  {
   "cell_type": "code",
   "execution_count": 20,
   "metadata": {},
   "outputs": [
    {
     "data": {
      "text/html": [
       "<div>\n",
       "<style scoped>\n",
       "    .dataframe tbody tr th:only-of-type {\n",
       "        vertical-align: middle;\n",
       "    }\n",
       "\n",
       "    .dataframe tbody tr th {\n",
       "        vertical-align: top;\n",
       "    }\n",
       "\n",
       "    .dataframe thead th {\n",
       "        text-align: right;\n",
       "    }\n",
       "</style>\n",
       "<table border=\"1\" class=\"dataframe\">\n",
       "  <thead>\n",
       "    <tr style=\"text-align: right;\">\n",
       "      <th></th>\n",
       "      <th>order_type</th>\n",
       "      <th>order_items</th>\n",
       "      <th>order_price</th>\n",
       "    </tr>\n",
       "    <tr>\n",
       "      <th>order_id</th>\n",
       "      <th></th>\n",
       "      <th></th>\n",
       "      <th></th>\n",
       "    </tr>\n",
       "  </thead>\n",
       "  <tbody>\n",
       "    <tr>\n",
       "      <th>ORDB09494</th>\n",
       "      <td>Breakfast</td>\n",
       "      <td>[('Cereal', 8), ('Pancake', 7), ('Coffee', 8)]</td>\n",
       "      <td>397.75</td>\n",
       "    </tr>\n",
       "    <tr>\n",
       "      <th>ORDX05338</th>\n",
       "      <td>Breakfast</td>\n",
       "      <td>[('Eggs', 2), ('Cereal', 2), ('Pancake', 5)]</td>\n",
       "      <td>207.25</td>\n",
       "    </tr>\n",
       "    <tr>\n",
       "      <th>ORDX00038</th>\n",
       "      <td>Dinner</td>\n",
       "      <td>[('Salmon', 8), ('Fish&amp;Chips', 1), ('Shrimp', 1)]</td>\n",
       "      <td>417.00</td>\n",
       "    </tr>\n",
       "    <tr>\n",
       "      <th>ORDA02212</th>\n",
       "      <td>Lunch</td>\n",
       "      <td>[('Steak', 3), ('Fries', 8), ('Salad', 9), ('B...</td>\n",
       "      <td>695.80</td>\n",
       "    </tr>\n",
       "    <tr>\n",
       "      <th>ORDX04604</th>\n",
       "      <td>Lunch</td>\n",
       "      <td>[('Fries', 3), ('Chicken', 5)]</td>\n",
       "      <td>196.00</td>\n",
       "    </tr>\n",
       "  </tbody>\n",
       "</table>\n",
       "</div>"
      ],
      "text/plain": [
       "          order_type                                        order_items  \\\n",
       "order_id                                                                  \n",
       "ORDB09494  Breakfast     [('Cereal', 8), ('Pancake', 7), ('Coffee', 8)]   \n",
       "ORDX05338  Breakfast       [('Eggs', 2), ('Cereal', 2), ('Pancake', 5)]   \n",
       "ORDX00038     Dinner  [('Salmon', 8), ('Fish&Chips', 1), ('Shrimp', 1)]   \n",
       "ORDA02212      Lunch  [('Steak', 3), ('Fries', 8), ('Salad', 9), ('B...   \n",
       "ORDX04604      Lunch                     [('Fries', 3), ('Chicken', 5)]   \n",
       "\n",
       "           order_price  \n",
       "order_id                \n",
       "ORDB09494       397.75  \n",
       "ORDX05338       207.25  \n",
       "ORDX00038       417.00  \n",
       "ORDA02212       695.80  \n",
       "ORDX04604       196.00  "
      ]
     },
     "execution_count": 20,
     "metadata": {},
     "output_type": "execute_result"
    }
   ],
   "source": [
    "menu_data = outlier_data[[\"order_type\", \"order_items\", \"order_price\"]]\n",
    "menu_data.head()"
   ]
  },
  {
   "cell_type": "markdown",
   "metadata": {},
   "source": [
    "The `order_items` is a list of tuples representing the order items: first element of the tuple is the item ordered, and the second element is the quantity ordered for such item. \n",
    "\n",
    "First, we are only looking at the items to know what is served for Breakfast, Lunch and Dinner. \n",
    "\n",
    "To achieve such task, we create the function `retrive_items()` that iterate over the dataframe rows which match a chosen `order_type`. For each `order_items`, we need to select only the strings that represent one item as well as the strings refering to its quantity (to be further used). Using regex, we can retrieve this information through the following pattern:\n",
    "\n",
    "- **items:** `r'\\(\\'(.+?)\\','`, which captures the content between a `('` and `',` in a lazy way to get only one item at a time.\n",
    "\n",
    "- **quantities:** `r', \\((\\d+?)\\)'`, which captures the digits between a `, (` and `)` in a lazy way to get only one item at a time."
   ]
  },
  {
   "cell_type": "code",
   "execution_count": 21,
   "metadata": {},
   "outputs": [],
   "source": [
    "# Defining function to retrieve menu items and quantities:\n",
    "def retrieve_items(order_type): # order_type must be: \"Breakfast\", \"Lunch\" or \"Dinner\"\n",
    "    item_to_retrieve, qty_to_retrieve = [], []\n",
    "    item_pattern, qty_pattern = r'\\(\\'(.+?)\\',', r', (\\d+?)\\)'\n",
    "    for order in menu_data[menu_data.order_type == order_type][\"order_items\"].iteritems():\n",
    "        new_items, new_qtys = re.findall(item_pattern, order[1]), re.findall(qty_pattern, order[1])\n",
    "        qty_to_retrieve.append(new_qtys)\n",
    "        item_to_retrieve.append(new_items)\n",
    "    return (item_to_retrieve, qty_to_retrieve) # list of meal's items lists, list of meal's quantity's lists"
   ]
  },
  {
   "cell_type": "markdown",
   "metadata": {},
   "source": [
    "The `retrieve_items()` function return a tuple with a list of items' lists (one for each order) and a lists of quantities' lists (one for each order). To retrieve the unique set of items of each meal, we need to flatten the list of items' lists using the `chain.from_iterable()` function to be able to them apply the `set()` function, getting the desired output as a result."
   ]
  },
  {
   "cell_type": "code",
   "execution_count": 22,
   "metadata": {},
   "outputs": [
    {
     "name": "stdout",
     "output_type": "stream",
     "text": [
      "Breakfast: {'Pancake', 'Eggs', 'Cereal', 'Coffee'} \n",
      "Lunch: {'Steak', 'Burger', 'Fries', 'Chicken', 'Salad'} \n",
      "Dinner: {'Fish&Chips', 'Salmon', 'Shrimp', 'Pasta'}\n"
     ]
    }
   ],
   "source": [
    "# BREAKFAST\n",
    "breakfast_items = set(chain.from_iterable(retrieve_items(\"Breakfast\")[0]))\n",
    "# LUNCH\n",
    "lunch_items = set(chain.from_iterable(retrieve_items(\"Lunch\")[0]))\n",
    "# DINNER\n",
    "dinner_items = set(chain.from_iterable(retrieve_items(\"Dinner\")[0]))\n",
    "\n",
    "# Checking the output:\n",
    "print(\"Breakfast:\", breakfast_items, \"\\nLunch:\", lunch_items, \"\\nDinner:\", dinner_items)"
   ]
  },
  {
   "cell_type": "markdown",
   "metadata": {},
   "source": [
    "Now that we have the menu items, we need to retrieve their prices. We need to build the following system of linear equations:\n",
    "\n",
    "$$ QUANTITY * PRICE_{item} = PRICE_{order} $$\n",
    "\n",
    "Where we are looking for the $PRICE_{item}$ vector, given the $ QUANTITY $ matrix of quantities ordered and $PRICE_{order}$ vector of order total prices.\n",
    "\n",
    "- $PRICE_{order}$ : is the vectorized representation of the column `price_order`\n",
    "\n",
    "- $ QUANTITY $ : is a **mXm** matrix, where **m** is the total number of orders\n",
    "\n",
    "and **n** is the number of diferent items in all menus\n",
    "\n",
    "Now, we will to generate, for each meal, the `array_\"meal type\"` matrix ($QUANTITY$) and the `\"meal type\"_order_price` vector ($PRICE_{order}$). It is important to notice that our matrix and vector will originally have more rows than necessary, i.e., they will have as many rows as the number of orders. However, to solve a the system, we need as many rows as the number of items of the meal. So, for instance, if breakfast have 4 possible items, we need 4 linearly independent combinations of those in order to use the `solve()` function, as explained in the [manual](https://docs.scipy.org/doc/numpy/reference/generated/numpy.linalg.solve.html#numpy.linalg.solve) (Numpy, 2019).\n"
   ]
  },
  {
   "cell_type": "code",
   "execution_count": 23,
   "metadata": {},
   "outputs": [
    {
     "name": "stdout",
     "output_type": "stream",
     "text": [
      "BREAKFAST MENU : {'Pancake': 24.25, 'Coffee': 7.5, 'Eggs': 22.0, 'Cereal': 21.0}\n"
     ]
    }
   ],
   "source": [
    "# The breakfast menu has 4 items\n",
    "# columns of the matrix represent :\n",
    "# 0 - 'Pancake', \n",
    "# 1 - 'Coffee', \n",
    "# 2 - 'Eggs', \n",
    "# 3 - 'Cereal'\n",
    "\n",
    "breakfast_order = retrieve_items(\"Breakfast\")\n",
    "number_breakfast = len(breakfast_order[0])\n",
    "array_breakfast = np.zeros([number_breakfast, 4])\n",
    "for i in range(number_breakfast): # looping over all breakfast orders\n",
    "    for j in range(len(breakfast_order[0][i])):\n",
    "        if breakfast_order[0][i][j] == 'Pancake':\n",
    "            array_breakfast[i,0] = breakfast_order[1][i][j]\n",
    "        elif breakfast_order[0][i][j] == 'Coffee':\n",
    "            array_breakfast[i,1] = breakfast_order[1][i][j]\n",
    "        elif breakfast_order[0][i][j] == 'Eggs':\n",
    "            array_breakfast[i,2] = breakfast_order[1][i][j]\n",
    "        elif breakfast_order[0][i][j] == 'Cereal':\n",
    "            array_breakfast[i,3] = breakfast_order[1][i][j]\n",
    "breakfast_order_price = np.array(menu_data[menu_data.order_type == \"Breakfast\"][\"order_price\"])\n",
    "\n",
    "# we only need only the information of 4 linearly independent orders (choose 1 to 5):\n",
    "breakfast_item_price = la.solve(array_breakfast[1:5,], breakfast_order_price[1:5])\n",
    "\n",
    "# Creating a Dictionary:\n",
    "breakfast_dic = {\"Pancake\": round(breakfast_item_price[0],2), \"Coffee\": round(breakfast_item_price[1],2),\n",
    "      \"Eggs\": round(breakfast_item_price[2],2), \"Cereal\": round(breakfast_item_price[3],2)}\n",
    "\n",
    "# printing the ouput:\n",
    "print(\"BREAKFAST MENU :\", breakfast_dic)"
   ]
  },
  {
   "cell_type": "code",
   "execution_count": 24,
   "metadata": {},
   "outputs": [
    {
     "name": "stdout",
     "output_type": "stream",
     "text": [
      "LUNCH MENU:  {'Salad': 17.2, 'Burger': 31.0, 'Chicken': 32.0, 'Steak': 45.0, 'Fries': 12.0}\n"
     ]
    }
   ],
   "source": [
    "# The lunch menu has 5 items\n",
    "# columns of the matrix represent :\n",
    "# 0 - 'Salad', \n",
    "# 1 - 'Burger', \n",
    "# 2 - 'Chicken', \n",
    "# 3 - 'Steak'\n",
    "# 4 - 'Fries'\n",
    "\n",
    "lunch_order = retrieve_items(\"Lunch\")\n",
    "number_lunch = len(lunch_order[0])\n",
    "array_lunch = np.zeros([number_lunch, 5])\n",
    "for i in range(number_lunch): # looping over all lunch orders\n",
    "    for j in range(len(lunch_order[0][i])):\n",
    "        if lunch_order[0][i][j] == 'Salad':\n",
    "            array_lunch[i,0] = lunch_order[1][i][j]\n",
    "        elif lunch_order[0][i][j] == 'Burger':\n",
    "            array_lunch[i,1] = lunch_order[1][i][j]\n",
    "        elif lunch_order[0][i][j] == 'Chicken':\n",
    "            array_lunch[i,2] = lunch_order[1][i][j]\n",
    "        elif lunch_order[0][i][j] == 'Steak':\n",
    "            array_lunch[i,3] = lunch_order[1][i][j]\n",
    "        elif lunch_order[0][i][j] == 'Fries':\n",
    "            array_lunch[i,4] = lunch_order[1][i][j]\n",
    "lunch_order_price = np.array(menu_data[menu_data.order_type == \"Lunch\"][\"order_price\"])\n",
    "\n",
    "# we only need only the information of 4 linearly independent orders (choose 0 to 4):\n",
    "lunch_item_price = la.solve(array_lunch[0:5,], lunch_order_price[0:5])\n",
    "\n",
    "# Creating a Dictionary:\n",
    "lunch_dic = {\"Salad\": round(lunch_item_price[0],2), \"Burger\": round(lunch_item_price[1],2),\n",
    "      \"Chicken\": round(lunch_item_price[2],2), \"Steak\": round(lunch_item_price[3],2), \"Fries\": round(lunch_item_price[4],2)}\n",
    "# printing the ouput:\n",
    "print(\"LUNCH MENU: \", lunch_dic)"
   ]
  },
  {
   "cell_type": "code",
   "execution_count": 25,
   "metadata": {},
   "outputs": [
    {
     "name": "stdout",
     "output_type": "stream",
     "text": [
      "DINNER MENU: {'Fish&Chips': 35.0, 'Shrimp': 54.0, 'Salmon': 41.0, 'Pasta': 27.5}\n"
     ]
    }
   ],
   "source": [
    "# The dinner menu has 4 items\n",
    "# columns of the matrix represent :\n",
    "# 0 - 'Fish&Chips', \n",
    "# 1 - 'Shrimp', \n",
    "# 2 - 'Salmon', \n",
    "# 3 - 'Pasta'\n",
    "\n",
    "dinner_order = retrieve_items(\"Dinner\")\n",
    "number_dinner = len(dinner_order[0])\n",
    "array_dinner = np.zeros([number_dinner, 4])\n",
    "for i in range(number_dinner): # looping over all dinner orders\n",
    "    for j in range(len(dinner_order[0][i])):\n",
    "        if dinner_order[0][i][j] == 'Fish&Chips':\n",
    "            array_dinner[i,0] = dinner_order[1][i][j]\n",
    "        elif dinner_order[0][i][j] == 'Shrimp':\n",
    "            array_dinner[i,1] = dinner_order[1][i][j]\n",
    "        elif dinner_order[0][i][j] == 'Salmon':\n",
    "            array_dinner[i,2] = dinner_order[1][i][j]\n",
    "        elif dinner_order[0][i][j] == 'Pasta':\n",
    "            array_dinner[i,3] = dinner_order[1][i][j]\n",
    "dinner_order_price = np.array(menu_data[menu_data.order_type == \"Dinner\"][\"order_price\"])\n",
    "\n",
    "# we only need only the information of 4 linearly independent orders (choose 1 to 4):\n",
    "dinner_item_price = la.solve(array_dinner[1:5,], dinner_order_price[1:5])\n",
    "\n",
    "# Creating a Dictionary:\n",
    "dinner_dic = {\"Fish&Chips\": round(dinner_item_price[0],2), \"Shrimp\" : round(dinner_item_price[1],2),\n",
    "      \"Salmon\": round(dinner_item_price[2],2), \"Pasta\": round(dinner_item_price[3],2)}\n",
    "# printing the ouput:\n",
    "print(\"DINNER MENU:\", dinner_dic)"
   ]
  },
  {
   "cell_type": "markdown",
   "metadata": {},
   "source": [
    "Now we have retrive all the items and prices of the menus and stored them in the `breakfast_dic`, `lunch_dic` and `dinner_dic` dictionaries. We are ready to check potential mistakes on the `order_items` and `order_price` columns of the dirty dataset.\n",
    "\n",
    "First, we'll check the `order_type` column to see if it is correct acconding to the time which it was served. After checking/correcting it, we see if the `order_items` match the `order_type` options. Finally, with everything good in the `order_type`, we'll check if `order_price` is fine.\n",
    "\n",
    "## 3.5. order_type"
   ]
  },
  {
   "cell_type": "markdown",
   "metadata": {},
   "source": [
    "We need to check:\n",
    "\n",
    "   a. if `time` between 8am - 12pm, `order_type` == 'Breakfast'?\n",
    "\n",
    "   b. if `time` between 12:00:01pm - 4pm, `order_type` == 'Lunch'?\n",
    "\n",
    "   c. if `time` between 4:00:01pm - 8pm, `order_type` == 'Dinner'?\n",
    "    \n",
    "If it's not, we change `order_type` to the proper one.\n",
    "\n",
    "To help us accomplish that, we build a function called `correct_order_type()`, which takes a string in the format `HH:MM:SS` as input and return the correct order type as output (`Breakfast`, `Lunch` or `Dinner`: "
   ]
  },
  {
   "cell_type": "code",
   "execution_count": 26,
   "metadata": {},
   "outputs": [],
   "source": [
    "def correct_order_type(order_time):\n",
    "    if order_time >= \"08:00:00\" and order_time <= \"12:00:00\":\n",
    "        correct_order = 'Breakfast'\n",
    "    elif order_time >= \"12:00:01\" and order_time <= \"16:00:00\":\n",
    "        correct_order = 'Lunch'\n",
    "    elif order_time >= \"16:00:01\" and order_time <= \"20:00:00\":\n",
    "        correct_order = 'Dinner'\n",
    "    return correct_order"
   ]
  },
  {
   "cell_type": "markdown",
   "metadata": {},
   "source": [
    "We use the `apply` [function](https://pandas.pydata.org/pandas-docs/stable/reference/api/pandas.Series.apply.html#pandas.Series.apply) (The `pandas` Project, 2019) to invoke the `correct_order_type()` function on all values of the `time` Series and create the  `correct_order` series with the proper order types for all `order_id`s given their `time`. Then, we just compare to see how many misclassifications are there in the dirty dataset."
   ]
  },
  {
   "cell_type": "code",
   "execution_count": 27,
   "metadata": {},
   "outputs": [
    {
     "name": "stdout",
     "output_type": "stream",
     "text": [
      "There are  37  misclassified orders in the dirty data set.\n"
     ]
    }
   ],
   "source": [
    "# what is the correct classification?\n",
    "correct_order = dirty_data.time.apply(correct_order_type)\n",
    "# which rows of the order_type column doesn't match the correct values?\n",
    "wrong_order_type = correct_order == dirty_data.order_type\n",
    "wrong_order_type = wrong_order_type[lambda x: x == False]\n",
    "# how many wrong \"order_type\" rows are in there?\n",
    "print(\"There are \",wrong_order_type.shape[0], \" misclassified orders in the dirty data set.\")"
   ]
  },
  {
   "cell_type": "markdown",
   "metadata": {},
   "source": [
    "We found out 37 misclassifications for the `order_type`. We already have the correct values for each `order_id` in the `correct_order` panda series. We will replace them will the current column of our data frame, using the [method](https://stackoverflow.com/questions/36846060/how-to-replace-an-entire-column-on-pandas-dataframe) suggested by EdChum (2016)."
   ]
  },
  {
   "cell_type": "code",
   "execution_count": 28,
   "metadata": {},
   "outputs": [],
   "source": [
    "dirty_data.order_type = correct_order"
   ]
  },
  {
   "cell_type": "markdown",
   "metadata": {},
   "source": [
    "## 3.6. order_items\n",
    "\n",
    "Now that the `order_type` is correct, we will check if the `order_items` are really included in the menu of the given type. If not, we need to find out which items were really ordered based on their quantities and `order_price`.\n",
    "\n",
    "We reshape the `retrieve_items()` function as `retrieve_items2()` to only take as argument one observation of `order_items` at a time and return 2 lists: one of its meal's items and one with its quantities. "
   ]
  },
  {
   "cell_type": "code",
   "execution_count": 29,
   "metadata": {},
   "outputs": [],
   "source": [
    "# retrieving menu items and quantities:\n",
    "def retrieve_items2(order_items): \n",
    "    item_pattern, qty_pattern = r'\\(\\'(.+?)\\',', r', (\\d+?)\\)'\n",
    "    item_to_retrieve, qty_to_retrieve = re.findall(item_pattern, str(order_items)), re.findall(qty_pattern, str(order_items))\n",
    "    return item_to_retrieve, qty_to_retrieve # list of meal's items lists, list of meal's quantity's lists"
   ]
  },
  {
   "cell_type": "markdown",
   "metadata": {},
   "source": [
    "Now we are gonna check row-by-row which items doesn't belong to their menu given their `order_type` and append all their equivalent index to the `wrong_items` list in order to fix them later."
   ]
  },
  {
   "cell_type": "code",
   "execution_count": 30,
   "metadata": {},
   "outputs": [
    {
     "name": "stdout",
     "output_type": "stream",
     "text": [
      "There are  37  rows with wrong items in the dirty data set.\n"
     ]
    }
   ],
   "source": [
    "# which items doesn't belong to their proper menu?\n",
    "retrived_items = dirty_data.order_items.apply(retrieve_items2)\n",
    "wrong_items = []\n",
    "for i in dirty_data.index:\n",
    "    if dirty_data.loc[i, 'order_type'] == 'Breakfast':\n",
    "        if set(retrived_items.loc[i][0]).issubset(breakfast_dic.keys()):\n",
    "            continue\n",
    "        else:\n",
    "            wrong_items.append(i)\n",
    "    if dirty_data.loc[i, 'order_type'] == 'Lunch':\n",
    "        if set(retrived_items.loc[i][0]).issubset(lunch_dic.keys()):\n",
    "            continue\n",
    "        else:\n",
    "            wrong_items.append(i)\n",
    "    if dirty_data.loc[i, 'order_type'] == 'Dinner':\n",
    "        if set(retrived_items.loc[i][0]).issubset(dinner_dic.keys()):\n",
    "            continue\n",
    "        else:\n",
    "            wrong_items.append(i)\n",
    "            \n",
    "# how many wrong \"order_items\" rows are in there?\n",
    "print(\"There are \", len(wrong_items), \" rows with wrong items in the dirty data set.\")"
   ]
  },
  {
   "cell_type": "markdown",
   "metadata": {},
   "source": [
    "Not that we know that in 37 rows there are items with the wrong names, we need to find a way to make them right. To find out what are the items from the correct menu that matches their quantities and the `order_price`, we are going to check all possibilities of items-quantities and pick the one that sums the correct price. \n",
    "\n",
    "Following the tutorial from [geeksforgeeks](https://www.geeksforgeeks.org/permutation-and-combination-in-python/) (Varshney, 2019), we use the `permutations()` function from itertools to get the permutations of the menu items given the length of the order. Following this, we make the  `check_permutations()` function to return the permutation of items that we want given the menu items/prices, quantities ordered and total order price:"
   ]
  },
  {
   "cell_type": "code",
   "execution_count": 31,
   "metadata": {},
   "outputs": [],
   "source": [
    "# take a dictionary of {item: price}, a qty integer and a float price as arguments\n",
    "def check_permutations(dictionary, qtys, total_price): \n",
    "    possibilities = permutations(list(dictionary.keys()),len(qtys))\n",
    "    for permutation in possibilities:\n",
    "        price = []\n",
    "        for item in permutation:\n",
    "            price.append(dictionary[item]) # getting a list of equivalent prices for the items\n",
    "        if sum([a*float(b) for a,b in zip(price,qtys)]) == total_price: # if it is the right item permutation\n",
    "            return permutation # return a list of items (strings)"
   ]
  },
  {
   "cell_type": "markdown",
   "metadata": {},
   "source": [
    "Now, we are going to find out what are the right items for each row where we have seen that the `order_items` are not correct. We are going to use the `check_permutations()` function, so, we first get the total price and retrieve the items and quantities to pass as argument. We do it according to the menu type because in our code structure each menu has its own equivalent dictionary.\n",
    "\n",
    "Finally, we store the correct order in the `right_items` dictionary, which has the following structure: {order_id: items}."
   ]
  },
  {
   "cell_type": "code",
   "execution_count": 32,
   "metadata": {},
   "outputs": [],
   "source": [
    "right_items = {}\n",
    "for id in wrong_items:\n",
    "    items, qtys = retrieve_items2(dirty_data.loc[id,'order_items'])\n",
    "    total_price = dirty_data.loc[id, 'order_price']\n",
    "    meal_type = dirty_data.loc[id, 'order_type']\n",
    "    if meal_type == \"Breakfast\":\n",
    "        right_items_list = check_permutations(breakfast_dic, qtys, total_price)\n",
    "        # put the items and prices in the original string shape of the \"order_items\" column\n",
    "        right_item = [(right_items_list[i], int(qtys[i])) for i in range(len(right_items_list))]\n",
    "\n",
    "    elif meal_type == \"Lunch\":\n",
    "        right_items_list = check_permutations(lunch_dic, qtys, total_price)\n",
    "        # put the items and prices in the original string shape of the \"order_items\" column\n",
    "        right_item = [(right_items_list[i], int(qtys[i])) for i in range(len(right_items_list))]\n",
    "\n",
    "    elif meal_type == \"Dinner\":\n",
    "        right_items_list = check_permutations(dinner_dic, qtys, total_price)\n",
    "        # put the items and prices in the original string shape of the \"order_items\" column\n",
    "        right_item = [(right_items_list[i], int(qtys[i])) for i in range(len(right_items_list))]\n",
    "\n",
    "    right_items[id] = right_item"
   ]
  },
  {
   "cell_type": "markdown",
   "metadata": {},
   "source": [
    "Finally, we transform our `right_items` dictionary in a pandas series like [suggested](https://www.geeksforgeeks.org/creating-a-pandas-series/) by Tiwari (2019). Then, we just replace the `order_items` from equivalent indexes (order_id) by the recently retrieved `right_items`. "
   ]
  },
  {
   "cell_type": "code",
   "execution_count": 33,
   "metadata": {},
   "outputs": [],
   "source": [
    "item_series = pd.Series(right_items) \n",
    "dirty_data.loc[item_series.index, 'order_items'] = item_series"
   ]
  },
  {
   "cell_type": "markdown",
   "metadata": {},
   "source": [
    "## 3.7. order_price\n",
    "\n",
    "Lastly, we check if given the order quantities and equivalent items prices the `order_price` is correct."
   ]
  },
  {
   "cell_type": "code",
   "execution_count": 34,
   "metadata": {},
   "outputs": [],
   "source": [
    "right_price = {}\n",
    "for id in dirty_data.index:\n",
    "    items, qtys = retrieve_items2(dirty_data.loc[id,'order_items'])\n",
    "    total_price = dirty_data.loc[id, 'order_price']\n",
    "    meal_type = dirty_data.loc[id, 'order_type']\n",
    "    if meal_type == \"Breakfast\":\n",
    "        prices = [(breakfast_dic[item]) for item in items]\n",
    "        right_prices = round(sum([prices*float(qtys) for prices,qtys in zip(prices,qtys)]),2)\n",
    "        \n",
    "    elif meal_type == \"Lunch\":\n",
    "        prices = [(lunch_dic[item]) for item in items]\n",
    "        right_prices = round(sum([prices*float(qtys) for prices,qtys in zip(prices,qtys)]),2)\n",
    "\n",
    "    elif meal_type == \"Dinner\":\n",
    "        prices = [(dinner_dic[item]) for item in items]\n",
    "        right_prices = round(sum([prices*float(qtys) for prices,qtys in zip(prices,qtys)]),2)\n",
    "\n",
    "    right_price[id] = right_prices"
   ]
  },
  {
   "cell_type": "markdown",
   "metadata": {},
   "source": [
    "Finally, we transform our `right_price` dictionary in a pandas series just like we have done with items. Then, we just replace the `order_price` from equivalent indexes (order_id) by the recently retrieved `right_price`. "
   ]
  },
  {
   "cell_type": "code",
   "execution_count": 35,
   "metadata": {},
   "outputs": [
    {
     "name": "stdout",
     "output_type": "stream",
     "text": [
      "There are  37  rows with wrong prices in the dirty data set.\n"
     ]
    }
   ],
   "source": [
    "price_series = pd.Series(right_price) \n",
    "\n",
    "# how many wrong \"order_price\" rows are in there?\n",
    "print(\"There are \", sum(price_series != dirty_data.order_price.astype(float)),\n",
    "      \" rows with wrong prices in the dirty data set.\")\n",
    "\n",
    "# fixing it\n",
    "dirty_data.loc[price_series.index, 'order_price'] = price_series"
   ]
  },
  {
   "cell_type": "markdown",
   "metadata": {},
   "source": [
    "## 3.8. Adressing Latitude, Longitude and Distance\n",
    "\n",
    "To analyse distance, first we must check that latitude and longitude are correct. <br>\n",
    "The following [page](https://latitudelongitude.org/au/melbourne/) (LatitudeLongitude.org, 2015) shares information the coordinates of Melbourne, so we know what to expect in terms of ranges in which the values should belong.\n",
    "We will make use of boxplots, that are appropriate due to the nature of latitude and longitude. Since all locations are in Melbourne CBD, very little variance is expected in this columns. lets make the plot:"
   ]
  },
  {
   "cell_type": "code",
   "execution_count": 36,
   "metadata": {},
   "outputs": [
    {
     "data": {
      "image/png": "[encoded data removed]",
      "text/plain": [
       "<Figure size 864x288 with 2 Axes>"
      ]
     },
     "metadata": {
      "needs_background": "light"
     },
     "output_type": "display_data"
    }
   ],
   "source": [
    "# plotting\n",
    "fig, (ax1, ax2)  = plt.subplots(1,2, figsize=(12,4))\n",
    "ax1.boxplot(dirty_data['customer_lat'])\n",
    "ax1.set_title('Latitude')\n",
    "ax2.boxplot(dirty_data['customer_lon'])\n",
    "ax2.set_title('Longitude')\n",
    "plt.show()"
   ]
  },
  {
   "cell_type": "markdown",
   "metadata": {},
   "source": [
    "The boxplot is not consistent, we must find out what is wrong. In a first look we observe:\n",
    "- This variance is not expected, it should be really small. \n",
    "- Apparently numbers have been mixed up (lat and lon). They have the same range on the chart, but tey shouldnt.\n",
    "- There is a strange group of outliers in customer latitude between (25 and 50) that must be understood.\n",
    "The method `.describe` will useful to continue with our exploration."
   ]
  },
  {
   "cell_type": "code",
   "execution_count": 37,
   "metadata": {},
   "outputs": [
    {
     "data": {
      "text/html": [
       "<div>\n",
       "<style scoped>\n",
       "    .dataframe tbody tr th:only-of-type {\n",
       "        vertical-align: middle;\n",
       "    }\n",
       "\n",
       "    .dataframe tbody tr th {\n",
       "        vertical-align: top;\n",
       "    }\n",
       "\n",
       "    .dataframe thead th {\n",
       "        text-align: right;\n",
       "    }\n",
       "</style>\n",
       "<table border=\"1\" class=\"dataframe\">\n",
       "  <thead>\n",
       "    <tr style=\"text-align: right;\">\n",
       "      <th></th>\n",
       "      <th>Latitude</th>\n",
       "      <th>Longitude</th>\n",
       "    </tr>\n",
       "  </thead>\n",
       "  <tbody>\n",
       "    <tr>\n",
       "      <th>count</th>\n",
       "      <td>500.000000</td>\n",
       "      <td>500.000000</td>\n",
       "    </tr>\n",
       "    <tr>\n",
       "      <th>mean</th>\n",
       "      <td>-30.753968</td>\n",
       "      <td>143.504504</td>\n",
       "    </tr>\n",
       "    <tr>\n",
       "      <th>std</th>\n",
       "      <td>25.336497</td>\n",
       "      <td>16.299324</td>\n",
       "    </tr>\n",
       "    <tr>\n",
       "      <th>min</th>\n",
       "      <td>-37.833683</td>\n",
       "      <td>-37.824486</td>\n",
       "    </tr>\n",
       "    <tr>\n",
       "      <th>25%</th>\n",
       "      <td>-37.818165</td>\n",
       "      <td>144.951571</td>\n",
       "    </tr>\n",
       "    <tr>\n",
       "      <th>50%</th>\n",
       "      <td>-37.812004</td>\n",
       "      <td>144.965090</td>\n",
       "    </tr>\n",
       "    <tr>\n",
       "      <th>75%</th>\n",
       "      <td>-37.804329</td>\n",
       "      <td>144.980290</td>\n",
       "    </tr>\n",
       "    <tr>\n",
       "      <th>max</th>\n",
       "      <td>144.983125</td>\n",
       "      <td>145.020271</td>\n",
       "    </tr>\n",
       "  </tbody>\n",
       "</table>\n",
       "</div>"
      ],
      "text/plain": [
       "         Latitude   Longitude\n",
       "count  500.000000  500.000000\n",
       "mean   -30.753968  143.504504\n",
       "std     25.336497   16.299324\n",
       "min    -37.833683  -37.824486\n",
       "25%    -37.818165  144.951571\n",
       "50%    -37.812004  144.965090\n",
       "75%    -37.804329  144.980290\n",
       "max    144.983125  145.020271"
      ]
     },
     "execution_count": 37,
     "metadata": {},
     "output_type": "execute_result"
    }
   ],
   "source": [
    "pd.DataFrame({'Latitude': dirty_data.customer_lat.describe(), 'Longitude': dirty_data.customer_lon.describe()})"
   ]
  },
  {
   "cell_type": "markdown",
   "metadata": {},
   "source": [
    "This table corroborates with our theory that numbers have been mixed, as we can see that although both columns have very similar max and minimum numbers, they're distributions are completely different.<br>\n",
    "Now lets extract all outliers in both columns and find the final proof. I have in the following [post](https://stackoverflow.com/questions/23199796/detect-and-exclude-outliers-in-pandas-data-frame) (StackOverFlow, 2017) a way to create a function that removes outliers from a dataframe."
   ]
  },
  {
   "cell_type": "code",
   "execution_count": 38,
   "metadata": {},
   "outputs": [],
   "source": [
    "def extract_outlier(df_in, col_name):\n",
    "    q1 = df_in[col_name].quantile(0.25)\n",
    "    q3 = df_in[col_name].quantile(0.75)\n",
    "    iqr = q3-q1 #Interquartile range\n",
    "    fence_low  = q1-1.5*iqr \n",
    "    fence_high = q3+1.5*iqr\n",
    "    df_out = df_in.loc[(df_in[col_name] < fence_low) | (df_in[col_name] > fence_high)]\n",
    "    return df_out"
   ]
  },
  {
   "cell_type": "markdown",
   "metadata": {},
   "source": [
    "We will use it in our `dirty_data` to  create a dataframe called `lat_long_outliers` with only the \"outliers\" regading the `latitude` and `longitude` columns."
   ]
  },
  {
   "cell_type": "code",
   "execution_count": 39,
   "metadata": {},
   "outputs": [
    {
     "data": {
      "text/html": [
       "<div>\n",
       "<style scoped>\n",
       "    .dataframe tbody tr th:only-of-type {\n",
       "        vertical-align: middle;\n",
       "    }\n",
       "\n",
       "    .dataframe tbody tr th {\n",
       "        vertical-align: top;\n",
       "    }\n",
       "\n",
       "    .dataframe thead th {\n",
       "        text-align: right;\n",
       "    }\n",
       "</style>\n",
       "<table border=\"1\" class=\"dataframe\">\n",
       "  <thead>\n",
       "    <tr style=\"text-align: right;\">\n",
       "      <th></th>\n",
       "      <th>date</th>\n",
       "      <th>time</th>\n",
       "      <th>order_type</th>\n",
       "      <th>branch_code</th>\n",
       "      <th>order_items</th>\n",
       "      <th>order_price</th>\n",
       "      <th>customer_lat</th>\n",
       "      <th>customer_lon</th>\n",
       "      <th>customerHasloyalty?</th>\n",
       "      <th>distance_to_customer_KM</th>\n",
       "      <th>delivery_fee</th>\n",
       "    </tr>\n",
       "    <tr>\n",
       "      <th>order_id</th>\n",
       "      <th></th>\n",
       "      <th></th>\n",
       "      <th></th>\n",
       "      <th></th>\n",
       "      <th></th>\n",
       "      <th></th>\n",
       "      <th></th>\n",
       "      <th></th>\n",
       "      <th></th>\n",
       "      <th></th>\n",
       "      <th></th>\n",
       "    </tr>\n",
       "  </thead>\n",
       "  <tbody>\n",
       "    <tr>\n",
       "      <th>ORDY05106</th>\n",
       "      <td>2018-10-05</td>\n",
       "      <td>17:07:36</td>\n",
       "      <td>Dinner</td>\n",
       "      <td>TP</td>\n",
       "      <td>[('Fish&amp;Chips', 1), ('Shrimp', 8), ('Salmon', ...</td>\n",
       "      <td>728.0</td>\n",
       "      <td>37.808036</td>\n",
       "      <td>144.957577</td>\n",
       "      <td>0</td>\n",
       "      <td>9.065</td>\n",
       "      <td>12.882619</td>\n",
       "    </tr>\n",
       "    <tr>\n",
       "      <th>ORDK02537</th>\n",
       "      <td>2018-06-25</td>\n",
       "      <td>13:44:47</td>\n",
       "      <td>Lunch</td>\n",
       "      <td>BK</td>\n",
       "      <td>[('Salad', 6), ('Chicken', 5), ('Burger', 6)]</td>\n",
       "      <td>449.2</td>\n",
       "      <td>144.983125</td>\n",
       "      <td>-37.824274</td>\n",
       "      <td>0</td>\n",
       "      <td>7.013</td>\n",
       "      <td>12.754196</td>\n",
       "    </tr>\n",
       "    <tr>\n",
       "      <th>ORDA10971</th>\n",
       "      <td>2018-12-04</td>\n",
       "      <td>19:09:17</td>\n",
       "      <td>Dinner</td>\n",
       "      <td>BK</td>\n",
       "      <td>[('Salmon', 4), ('Pasta', 2), ('Shrimp', 3)]</td>\n",
       "      <td>381.0</td>\n",
       "      <td>144.969403</td>\n",
       "      <td>-37.824486</td>\n",
       "      <td>0</td>\n",
       "      <td>8.139</td>\n",
       "      <td>15.129492</td>\n",
       "    </tr>\n",
       "    <tr>\n",
       "      <th>ORDI10727</th>\n",
       "      <td>2018-08-03</td>\n",
       "      <td>15:05:54</td>\n",
       "      <td>Lunch</td>\n",
       "      <td>NS</td>\n",
       "      <td>[('Chicken', 2), ('Burger', 5), ('Fries', 10)]</td>\n",
       "      <td>339.0</td>\n",
       "      <td>37.812174</td>\n",
       "      <td>144.973941</td>\n",
       "      <td>0</td>\n",
       "      <td>7.623</td>\n",
       "      <td>13.160695</td>\n",
       "    </tr>\n",
       "    <tr>\n",
       "      <th>ORDI09145</th>\n",
       "      <td>2018-03-21</td>\n",
       "      <td>10:32:06</td>\n",
       "      <td>Breakfast</td>\n",
       "      <td>NS</td>\n",
       "      <td>[('Eggs', 5), ('Cereal', 9), ('Coffee', 8), ('...</td>\n",
       "      <td>407.5</td>\n",
       "      <td>37.814050</td>\n",
       "      <td>144.960195</td>\n",
       "      <td>0</td>\n",
       "      <td>8.186</td>\n",
       "      <td>13.233508</td>\n",
       "    </tr>\n",
       "  </tbody>\n",
       "</table>\n",
       "</div>"
      ],
      "text/plain": [
       "                 date      time order_type branch_code  \\\n",
       "order_id                                                 \n",
       "ORDY05106  2018-10-05  17:07:36     Dinner          TP   \n",
       "ORDK02537  2018-06-25  13:44:47      Lunch          BK   \n",
       "ORDA10971  2018-12-04  19:09:17     Dinner          BK   \n",
       "ORDI10727  2018-08-03  15:05:54      Lunch          NS   \n",
       "ORDI09145  2018-03-21  10:32:06  Breakfast          NS   \n",
       "\n",
       "                                                 order_items  order_price  \\\n",
       "order_id                                                                    \n",
       "ORDY05106  [('Fish&Chips', 1), ('Shrimp', 8), ('Salmon', ...        728.0   \n",
       "ORDK02537      [('Salad', 6), ('Chicken', 5), ('Burger', 6)]        449.2   \n",
       "ORDA10971       [('Salmon', 4), ('Pasta', 2), ('Shrimp', 3)]        381.0   \n",
       "ORDI10727     [('Chicken', 2), ('Burger', 5), ('Fries', 10)]        339.0   \n",
       "ORDI09145  [('Eggs', 5), ('Cereal', 9), ('Coffee', 8), ('...        407.5   \n",
       "\n",
       "           customer_lat  customer_lon  customerHasloyalty?  \\\n",
       "order_id                                                     \n",
       "ORDY05106     37.808036    144.957577                    0   \n",
       "ORDK02537    144.983125    -37.824274                    0   \n",
       "ORDA10971    144.969403    -37.824486                    0   \n",
       "ORDI10727     37.812174    144.973941                    0   \n",
       "ORDI09145     37.814050    144.960195                    0   \n",
       "\n",
       "           distance_to_customer_KM  delivery_fee  \n",
       "order_id                                          \n",
       "ORDY05106                    9.065     12.882619  \n",
       "ORDK02537                    7.013     12.754196  \n",
       "ORDA10971                    8.139     15.129492  \n",
       "ORDI10727                    7.623     13.160695  \n",
       "ORDI09145                    8.186     13.233508  "
      ]
     },
     "execution_count": 39,
     "metadata": {},
     "output_type": "execute_result"
    }
   ],
   "source": [
    "lat_long_outliers = [extract_outlier(dirty_data, 'customer_lat'),extract_outlier(dirty_data, 'customer_lon')]\n",
    "lat_long_outliers = pd.concat(lat_long_outliers)\n",
    "# checking output (a random sample that shows the 2 different types of problems)\n",
    "lat_long_outliers.sample(5, random_state = 100)"
   ]
  },
  {
   "cell_type": "markdown",
   "metadata": {},
   "source": [
    "In this dataframe, we have identified clearly:\n",
    "- In fact latitude and longitude are switched in some cases.\n",
    "- Many numbers in latitude have their sign switched, that means they are positive but should be negative, which explains the pattern we observed before. <br>"
   ]
  },
  {
   "cell_type": "markdown",
   "metadata": {},
   "source": [
    "Stablished what needs to be corrected, we will start making changes, by:\n",
    "- Switching rows in all cases where latitude > longitude, since the boxplot proved only in outliers the opposite happens.   \n",
    "- Multiplying by -1 all positive latitudes, which is the remaining factor that must be adressed."
   ]
  },
  {
   "cell_type": "code",
   "execution_count": 40,
   "metadata": {},
   "outputs": [],
   "source": [
    "customer_lat = list(dirty_data['customer_lat'])\n",
    "customer_lon = list(dirty_data['customer_lon'])\n",
    "\n",
    "for i in range(len(customer_lon)):\n",
    "    if customer_lon[i] < customer_lat[i]:\n",
    "        customer_lon[i], customer_lat[i] = customer_lat[i], customer_lon[i]\n",
    "    elif customer_lat[i] > 0:\n",
    "        customer_lat[i] = customer_lat[i]*-1 \n",
    "\n",
    "dirty_data['customer_lat'] = customer_lat\n",
    "dirty_data['customer_lon'] = customer_lon"
   ]
  },
  {
   "cell_type": "markdown",
   "metadata": {},
   "source": [
    "Let's check again the boxplots after the correction:"
   ]
  },
  {
   "cell_type": "code",
   "execution_count": 41,
   "metadata": {},
   "outputs": [
    {
     "data": {
      "image/png": "[encoded data removed]",
      "text/plain": [
       "<Figure size 864x288 with 2 Axes>"
      ]
     },
     "metadata": {
      "needs_background": "light"
     },
     "output_type": "display_data"
    }
   ],
   "source": [
    "fig, (ax1, ax2)  = plt.subplots(1,2, figsize=(12,4))\n",
    "ax1.boxplot(dirty_data['customer_lat'])\n",
    "ax2.boxplot(dirty_data['customer_lon'])\n",
    "ax2.set_ylim((144.9,145.1))\n",
    "plt.show()"
   ]
  },
  {
   "cell_type": "markdown",
   "metadata": {},
   "source": [
    "Much better! Outliers removed and all values are now within the range of Melboune latitudes/longitudes. We can now proceed to find distance.\n",
    "\n",
    "### Lets explore the column Distance\n",
    "We will calculate the real distance in the table outliers using the library [networkx](https://networkx.github.io/documentation/stable/) (NetworkX Developers, 2019a). And we will make use of the following tables:\n",
    "- outlier_data\n",
    "- edge_data\n",
    "- branches_data\n",
    "- nodes_data\n",
    "\n",
    "As we know the table outliers has no dirty data, we will test on it if our method to calculate distance is correct, and when positive we will apply to make corrections on the dirty data table.\n"
   ]
  },
  {
   "cell_type": "markdown",
   "metadata": {},
   "source": [
    "As our first step here, we will create a graph with the help of [networkx](https://networkx.github.io/documentation/networkx-1.10/tutorial/tutorial.html) (NetworkX Developers, 2019b). It is essential to have [graph data](https://en.wikipedia.org/wiki/Graph_(discrete_mathematics)) (Wikimedia Foundation, 2019) for this kind of problem.\n"
   ]
  },
  {
   "cell_type": "code",
   "execution_count": 42,
   "metadata": {},
   "outputs": [
    {
     "name": "stdout",
     "output_type": "stream",
     "text": [
      "Graph: <class 'networkx.classes.graph.Graph'>\n"
     ]
    }
   ],
   "source": [
    "G=nx.Graph()\n",
    "print(\"Graph:\", type(G))"
   ]
  },
  {
   "cell_type": "markdown",
   "metadata": {},
   "source": [
    "Populating the graph with nodes and edges"
   ]
  },
  {
   "cell_type": "code",
   "execution_count": 43,
   "metadata": {},
   "outputs": [
    {
     "name": "stdout",
     "output_type": "stream",
     "text": [
      "first five nodes: [711327755, 711327756, 711327759, 711327760, 777781264] \n",
      " first five edges: [(711327755, 711332946), (711327755, 55725841), (711327755, 711327760), (711327756, 703557073), (711327756, 711332946)]\n"
     ]
    }
   ],
   "source": [
    "# adding nodes and edges\n",
    "G.add_nodes_from(list(nodes_data['node']))\n",
    "\n",
    "for edge in edge_data.index:\n",
    "    G.add_edge(edge_data.loc[edge,\"u\"],edge_data.loc[edge,\"v\"], weight = edge_data.loc[edge,\"distance(m)\"])\n",
    "# let's check the output\n",
    "print(\"first five nodes:\", list(G.nodes())[0:5], \"\\n\",\"first five edges:\", list(G.edges())[0:5]) "
   ]
  },
  {
   "cell_type": "markdown",
   "metadata": {},
   "source": [
    "Next steps:\n",
    "- Connect nodes with latitude and longitude\n",
    "- Add nodes of branch and destiny to the main table\n",
    "- Calculate the distance using the *dijkstra algorithm*  through the function `dijkstra_path_length`\n",
    "- Compare the distance from the function with the table.  "
   ]
  },
  {
   "cell_type": "code",
   "execution_count": 44,
   "metadata": {},
   "outputs": [],
   "source": [
    "# create dictonary with key = (lat and lon) and value = node\n",
    "dict_node = nodes_data.set_index(['lat','lon'])['node'].to_dict()\n",
    "\n",
    "# create list of tuples containing latitude and longitude of each node for customers and branches\n",
    "customer_coordinates = list(zip(outlier_data['customer_lat'], outlier_data['customer_lon'])) \n",
    "branch_coordinates = list(zip(branches_data['branch_lat'], branches_data['branch_lon']))\n",
    "\n",
    "# adding column of nodes in the dataframes\n",
    "outlier_data['delivery_nodes'] = [dict_node[coor] for coor in customer_coordinates]\n",
    "branches_data['nodes'] = [dict_node[coor] for coor in branch_coordinates]"
   ]
  },
  {
   "cell_type": "markdown",
   "metadata": {},
   "source": [
    "Adding the column of *branch_nodes* in the outlier data according to *the branch_code*"
   ]
  },
  {
   "cell_type": "code",
   "execution_count": 45,
   "metadata": {},
   "outputs": [
    {
     "data": {
      "text/html": [
       "<div>\n",
       "<style scoped>\n",
       "    .dataframe tbody tr th:only-of-type {\n",
       "        vertical-align: middle;\n",
       "    }\n",
       "\n",
       "    .dataframe tbody tr th {\n",
       "        vertical-align: top;\n",
       "    }\n",
       "\n",
       "    .dataframe thead th {\n",
       "        text-align: right;\n",
       "    }\n",
       "</style>\n",
       "<table border=\"1\" class=\"dataframe\">\n",
       "  <thead>\n",
       "    <tr style=\"text-align: right;\">\n",
       "      <th></th>\n",
       "      <th>date</th>\n",
       "      <th>time</th>\n",
       "      <th>order_type</th>\n",
       "      <th>branch_code</th>\n",
       "      <th>order_items</th>\n",
       "      <th>order_price</th>\n",
       "      <th>customer_lat</th>\n",
       "      <th>customer_lon</th>\n",
       "      <th>customerHasloyalty?</th>\n",
       "      <th>distance_to_customer_KM</th>\n",
       "      <th>delivery_fee</th>\n",
       "      <th>delivery_nodes</th>\n",
       "      <th>branch_nodes</th>\n",
       "    </tr>\n",
       "    <tr>\n",
       "      <th>order_id</th>\n",
       "      <th></th>\n",
       "      <th></th>\n",
       "      <th></th>\n",
       "      <th></th>\n",
       "      <th></th>\n",
       "      <th></th>\n",
       "      <th></th>\n",
       "      <th></th>\n",
       "      <th></th>\n",
       "      <th></th>\n",
       "      <th></th>\n",
       "      <th></th>\n",
       "      <th></th>\n",
       "    </tr>\n",
       "  </thead>\n",
       "  <tbody>\n",
       "    <tr>\n",
       "      <th>ORDB09494</th>\n",
       "      <td>2018-03-20</td>\n",
       "      <td>10:32:06</td>\n",
       "      <td>Breakfast</td>\n",
       "      <td>TP</td>\n",
       "      <td>[('Cereal', 8), ('Pancake', 7), ('Coffee', 8)]</td>\n",
       "      <td>397.75</td>\n",
       "      <td>-37.810429</td>\n",
       "      <td>144.957103</td>\n",
       "      <td>0</td>\n",
       "      <td>8.864</td>\n",
       "      <td>11.374260</td>\n",
       "      <td>6167489414</td>\n",
       "      <td>1390575046</td>\n",
       "    </tr>\n",
       "    <tr>\n",
       "      <th>ORDX05338</th>\n",
       "      <td>2018-01-04</td>\n",
       "      <td>08:00:00</td>\n",
       "      <td>Breakfast</td>\n",
       "      <td>BK</td>\n",
       "      <td>[('Eggs', 2), ('Cereal', 2), ('Pancake', 5)]</td>\n",
       "      <td>207.25</td>\n",
       "      <td>-37.802047</td>\n",
       "      <td>144.984127</td>\n",
       "      <td>1</td>\n",
       "      <td>6.268</td>\n",
       "      <td>5.008869</td>\n",
       "      <td>2170946980</td>\n",
       "      <td>1889485053</td>\n",
       "    </tr>\n",
       "    <tr>\n",
       "      <th>ORDX00038</th>\n",
       "      <td>2018-11-10</td>\n",
       "      <td>18:18:35</td>\n",
       "      <td>Dinner</td>\n",
       "      <td>BK</td>\n",
       "      <td>[('Salmon', 8), ('Fish&amp;Chips', 1), ('Shrimp', 1)]</td>\n",
       "      <td>417.00</td>\n",
       "      <td>-37.819670</td>\n",
       "      <td>145.010019</td>\n",
       "      <td>0</td>\n",
       "      <td>4.324</td>\n",
       "      <td>13.468264</td>\n",
       "      <td>1458418088</td>\n",
       "      <td>1889485053</td>\n",
       "    </tr>\n",
       "  </tbody>\n",
       "</table>\n",
       "</div>"
      ],
      "text/plain": [
       "                 date      time order_type branch_code  \\\n",
       "order_id                                                 \n",
       "ORDB09494  2018-03-20  10:32:06  Breakfast          TP   \n",
       "ORDX05338  2018-01-04  08:00:00  Breakfast          BK   \n",
       "ORDX00038  2018-11-10  18:18:35     Dinner          BK   \n",
       "\n",
       "                                                 order_items  order_price  \\\n",
       "order_id                                                                    \n",
       "ORDB09494     [('Cereal', 8), ('Pancake', 7), ('Coffee', 8)]       397.75   \n",
       "ORDX05338       [('Eggs', 2), ('Cereal', 2), ('Pancake', 5)]       207.25   \n",
       "ORDX00038  [('Salmon', 8), ('Fish&Chips', 1), ('Shrimp', 1)]       417.00   \n",
       "\n",
       "           customer_lat  customer_lon  customerHasloyalty?  \\\n",
       "order_id                                                     \n",
       "ORDB09494    -37.810429    144.957103                    0   \n",
       "ORDX05338    -37.802047    144.984127                    1   \n",
       "ORDX00038    -37.819670    145.010019                    0   \n",
       "\n",
       "           distance_to_customer_KM  delivery_fee  delivery_nodes  branch_nodes  \n",
       "order_id                                                                        \n",
       "ORDB09494                    8.864     11.374260      6167489414    1390575046  \n",
       "ORDX05338                    6.268      5.008869      2170946980    1889485053  \n",
       "ORDX00038                    4.324     13.468264      1458418088    1889485053  "
      ]
     },
     "execution_count": 45,
     "metadata": {},
     "output_type": "execute_result"
    }
   ],
   "source": [
    "dict_branch_node = branches_data.set_index('branch_code')['nodes'].to_dict()\n",
    "outlier_data['branch_nodes'] = [dict_branch_node[coor] for coor in outlier_data.branch_code]\n",
    "# checking the new columns added\n",
    "outlier_data.head(3) "
   ]
  },
  {
   "cell_type": "code",
   "execution_count": 46,
   "metadata": {},
   "outputs": [
    {
     "name": "stdout",
     "output_type": "stream",
     "text": [
      "Same lists: True\n"
     ]
    }
   ],
   "source": [
    "# calculating the distance\n",
    "outlier_data['distance'] = outlier_data.apply(lambda row: nx.dijkstra_path_length(\n",
    "    G, row.delivery_nodes, row.branch_nodes), axis=1)\n",
    "# Checking the output\n",
    "print('Same lists:', list(outlier_data['distance']/1000) == list(round(outlier_data['distance_to_customer_KM'],3)))"
   ]
  },
  {
   "cell_type": "markdown",
   "metadata": {},
   "source": [
    "The algorithm is working, so lets apply the exact same steps in `dirty_data`:"
   ]
  },
  {
   "cell_type": "code",
   "execution_count": 47,
   "metadata": {},
   "outputs": [],
   "source": [
    "dirty_customer_coordinates = list(zip(dirty_data['customer_lat'], dirty_data['customer_lon']))\n",
    "# adding the nodes columns to the dirty data\n",
    "dirty_data['delivery_nodes'] = [dict_node[coor] for coor in dirty_customer_coordinates]\n",
    "dirty_data['branch_nodes'] = [dict_branch_node[coor] for coor in dirty_data.branch_code]\n",
    "# create a new column for distance\n",
    "dirty_data['distance'] = dirty_data.apply(lambda row: nx.dijkstra_path_length(\n",
    "    G, row.delivery_nodes, row.branch_nodes)/1000, axis=1)"
   ]
  },
  {
   "cell_type": "markdown",
   "metadata": {},
   "source": [
    "Now, we will find the number of differences between the old and new distance:"
   ]
  },
  {
   "cell_type": "code",
   "execution_count": 48,
   "metadata": {},
   "outputs": [
    {
     "name": "stdout",
     "output_type": "stream",
     "text": [
      "Number of different numbers: 36\n",
      "Examples [(7.795, 8.596), (5.105, 7.147), (7.494, 9.942), (9.057, 9.515), (8.966, 10.83), (9.169, 9.947000000000001), (6.216, 5.099), (8.176, 12.785), (7.883, 10.425), (9.942, 9.066)]\n"
     ]
    }
   ],
   "source": [
    "new_distance = list(dirty_data['distance'])\n",
    "old_distance = list(dirty_data['distance_to_customer_KM'])\n",
    "\n",
    "different_numbers = []\n",
    "for i in range(len(new_distance)):\n",
    "    if round(new_distance[i],3) != round(old_distance[i],3):\n",
    "        different_numbers.append((new_distance[i],old_distance[i]))\n",
    "\n",
    "print('Number of different numbers:', len(different_numbers))\n",
    "print('Examples', different_numbers[0:10])"
   ]
  },
  {
   "cell_type": "markdown",
   "metadata": {},
   "source": [
    "Finally, replace the old distance by the newly calculated."
   ]
  },
  {
   "cell_type": "code",
   "execution_count": 49,
   "metadata": {},
   "outputs": [
    {
     "data": {
      "text/html": [
       "<div>\n",
       "<style scoped>\n",
       "    .dataframe tbody tr th:only-of-type {\n",
       "        vertical-align: middle;\n",
       "    }\n",
       "\n",
       "    .dataframe tbody tr th {\n",
       "        vertical-align: top;\n",
       "    }\n",
       "\n",
       "    .dataframe thead th {\n",
       "        text-align: right;\n",
       "    }\n",
       "</style>\n",
       "<table border=\"1\" class=\"dataframe\">\n",
       "  <thead>\n",
       "    <tr style=\"text-align: right;\">\n",
       "      <th></th>\n",
       "      <th>date</th>\n",
       "      <th>time</th>\n",
       "      <th>order_type</th>\n",
       "      <th>branch_code</th>\n",
       "      <th>order_items</th>\n",
       "      <th>order_price</th>\n",
       "      <th>customer_lat</th>\n",
       "      <th>customer_lon</th>\n",
       "      <th>customerHasloyalty?</th>\n",
       "      <th>distance_to_customer_KM</th>\n",
       "      <th>delivery_fee</th>\n",
       "    </tr>\n",
       "    <tr>\n",
       "      <th>order_id</th>\n",
       "      <th></th>\n",
       "      <th></th>\n",
       "      <th></th>\n",
       "      <th></th>\n",
       "      <th></th>\n",
       "      <th></th>\n",
       "      <th></th>\n",
       "      <th></th>\n",
       "      <th></th>\n",
       "      <th></th>\n",
       "      <th></th>\n",
       "    </tr>\n",
       "  </thead>\n",
       "  <tbody>\n",
       "    <tr>\n",
       "      <th>ORDJ10441</th>\n",
       "      <td>2018-06-22</td>\n",
       "      <td>13:34:38</td>\n",
       "      <td>Lunch</td>\n",
       "      <td>TP</td>\n",
       "      <td>[('Fries', 8), ('Burger', 1), ('Salad', 3), ('...</td>\n",
       "      <td>242.60</td>\n",
       "      <td>-37.804428</td>\n",
       "      <td>145.001706</td>\n",
       "      <td>0</td>\n",
       "      <td>11.725</td>\n",
       "      <td>14.528886</td>\n",
       "    </tr>\n",
       "    <tr>\n",
       "      <th>ORDJ07328</th>\n",
       "      <td>2018-05-07</td>\n",
       "      <td>12:13:31</td>\n",
       "      <td>Lunch</td>\n",
       "      <td>TP</td>\n",
       "      <td>[('Salad', 4), ('Chicken', 7)]</td>\n",
       "      <td>292.80</td>\n",
       "      <td>-37.803965</td>\n",
       "      <td>144.957401</td>\n",
       "      <td>0</td>\n",
       "      <td>9.326</td>\n",
       "      <td>12.480629</td>\n",
       "    </tr>\n",
       "    <tr>\n",
       "      <th>ORDK05266</th>\n",
       "      <td>2018-06-19</td>\n",
       "      <td>13:34:38</td>\n",
       "      <td>Lunch</td>\n",
       "      <td>BK</td>\n",
       "      <td>[('Chicken', 3), ('Fries', 7)]</td>\n",
       "      <td>180.00</td>\n",
       "      <td>-37.821107</td>\n",
       "      <td>145.001579</td>\n",
       "      <td>0</td>\n",
       "      <td>5.099</td>\n",
       "      <td>10.859659</td>\n",
       "    </tr>\n",
       "    <tr>\n",
       "      <th>ORDY06038</th>\n",
       "      <td>2018-05-01</td>\n",
       "      <td>11:53:14</td>\n",
       "      <td>Breakfast</td>\n",
       "      <td>TP</td>\n",
       "      <td>[('Cereal', 2), ('Eggs', 8), ('Coffee', 5)]</td>\n",
       "      <td>255.50</td>\n",
       "      <td>-37.803248</td>\n",
       "      <td>145.001800</td>\n",
       "      <td>0</td>\n",
       "      <td>11.773</td>\n",
       "      <td>14.206698</td>\n",
       "    </tr>\n",
       "    <tr>\n",
       "      <th>ORDA06375</th>\n",
       "      <td>2018-03-17</td>\n",
       "      <td>10:21:58</td>\n",
       "      <td>Breakfast</td>\n",
       "      <td>BK</td>\n",
       "      <td>[('Pancake', 3), ('Coffee', 8), ('Cereal', 4),...</td>\n",
       "      <td>370.75</td>\n",
       "      <td>-37.807633</td>\n",
       "      <td>144.942262</td>\n",
       "      <td>0</td>\n",
       "      <td>9.536</td>\n",
       "      <td>17.477364</td>\n",
       "    </tr>\n",
       "  </tbody>\n",
       "</table>\n",
       "</div>"
      ],
      "text/plain": [
       "                 date      time order_type branch_code  \\\n",
       "order_id                                                 \n",
       "ORDJ10441  2018-06-22  13:34:38      Lunch          TP   \n",
       "ORDJ07328  2018-05-07  12:13:31      Lunch          TP   \n",
       "ORDK05266  2018-06-19  13:34:38      Lunch          BK   \n",
       "ORDY06038  2018-05-01  11:53:14  Breakfast          TP   \n",
       "ORDA06375  2018-03-17  10:21:58  Breakfast          BK   \n",
       "\n",
       "                                                 order_items  order_price  \\\n",
       "order_id                                                                    \n",
       "ORDJ10441  [('Fries', 8), ('Burger', 1), ('Salad', 3), ('...       242.60   \n",
       "ORDJ07328                     [('Salad', 4), ('Chicken', 7)]       292.80   \n",
       "ORDK05266                     [('Chicken', 3), ('Fries', 7)]       180.00   \n",
       "ORDY06038        [('Cereal', 2), ('Eggs', 8), ('Coffee', 5)]       255.50   \n",
       "ORDA06375  [('Pancake', 3), ('Coffee', 8), ('Cereal', 4),...       370.75   \n",
       "\n",
       "           customer_lat  customer_lon  customerHasloyalty?  \\\n",
       "order_id                                                     \n",
       "ORDJ10441    -37.804428    145.001706                    0   \n",
       "ORDJ07328    -37.803965    144.957401                    0   \n",
       "ORDK05266    -37.821107    145.001579                    0   \n",
       "ORDY06038    -37.803248    145.001800                    0   \n",
       "ORDA06375    -37.807633    144.942262                    0   \n",
       "\n",
       "           distance_to_customer_KM  delivery_fee  \n",
       "order_id                                          \n",
       "ORDJ10441                   11.725     14.528886  \n",
       "ORDJ07328                    9.326     12.480629  \n",
       "ORDK05266                    5.099     10.859659  \n",
       "ORDY06038                   11.773     14.206698  \n",
       "ORDA06375                    9.536     17.477364  "
      ]
     },
     "execution_count": 49,
     "metadata": {},
     "output_type": "execute_result"
    }
   ],
   "source": [
    "# replacing for the new \n",
    "dirty_data['distance_to_customer_KM'] = dirty_data['distance']\n",
    "# dropping the new columns added only to support the analysis (distance, delivery_nodes, branch_nodes)\n",
    "dirty_data.drop(columns =['distance', 'delivery_nodes', 'branch_nodes'], inplace=True)\n",
    "dirty_data.head()"
   ]
  },
  {
   "cell_type": "markdown",
   "metadata": {},
   "source": [
    "## 3.9. customerHasloyalty?\n",
    "We know that delivery fee is calculated using a different method for each branch.\n",
    "\n",
    "The fee depends linearly (but in different ways for each branch) on:\n",
    "\n",
    "<b>a.</b> weekend or weekday (1 or 0) - as a continuous variable\n",
    "\n",
    "<b>b.</b> time of the day (morning 0, afternoon 1, evening 2) - as a continuous variable\n",
    "\n",
    "<b>c.</b> distance between branch and customer\n",
    "\n",
    "<b>If a customer has loyalty, they get a 50% discount on delivery fee</b>\n",
    "\n",
    "We know that there are no dirty data neither in the `delivery_fee` nor in the `time` and we have already fixed the `distance`, `branch_code` and `date`. That way, we can retrieve all dependent and independent variables of the delirery fee regressions. What still might be wrong here is the customer loyalty. To check it, we will retrieve the regression coefficients using the missing data file values. \n",
    "\n",
    "Why the missing data? We know all datasets come from the same distribution, but we cannot use the dirty data because we don't know were the wrong entries are and we should not use the outliers because they will bias the regression. \n"
   ]
  },
  {
   "cell_type": "code",
   "execution_count": 50,
   "metadata": {},
   "outputs": [
    {
     "name": "stdout",
     "output_type": "stream",
     "text": [
      "<class 'pandas.core.frame.DataFrame'>\n",
      "Index: 500 entries, ORDI05516 to ORDA08079\n",
      "Data columns (total 6 columns):\n",
      "date                       500 non-null object\n",
      "order_type                 500 non-null object\n",
      "branch_code                400 non-null object\n",
      "customerHasloyalty?        500 non-null int64\n",
      "delivery_fee               450 non-null float64\n",
      "distance_to_customer_KM    450 non-null float64\n",
      "dtypes: float64(2), int64(1), object(3)\n",
      "memory usage: 19.5+ KB\n"
     ]
    }
   ],
   "source": [
    "regression_data = missing_data.loc[:,['date','order_type','branch_code','customerHasloyalty?',\n",
    "                                      'delivery_fee', 'distance_to_customer_KM']]\n",
    "regression_data.info()"
   ]
  },
  {
   "cell_type": "markdown",
   "metadata": {},
   "source": [
    "We need complete rows of the information contained in `regression_data` to perform this task. As we can see above, 50 out of the 500 rows in out dataframe has missing values of delivery_fee and 100 are missing for branch_code. We are going to drop these rows and proceed with the analysis:\n",
    "\n",
    "1 - Create `weekend_or_weekday` variable;\n",
    "\n",
    "2 - Create `time_of_day` variable;\n",
    "\n",
    "3 - Multiply the `delivery_fee` by 2 in case the customer has loyalty;\n",
    "\n",
    "4 - Divide the data in the 3 different  branches in order to execute 3 diferent regressions."
   ]
  },
  {
   "cell_type": "code",
   "execution_count": 51,
   "metadata": {},
   "outputs": [
    {
     "name": "stdout",
     "output_type": "stream",
     "text": [
      "<class 'pandas.core.frame.DataFrame'>\n",
      "Index: 350 entries, ORDI05516 to ORDA08079\n",
      "Data columns (total 6 columns):\n",
      "date                       350 non-null object\n",
      "order_type                 350 non-null object\n",
      "branch_code                350 non-null object\n",
      "customerHasloyalty?        350 non-null int64\n",
      "delivery_fee               350 non-null float64\n",
      "distance_to_customer_KM    350 non-null float64\n",
      "dtypes: float64(2), int64(1), object(3)\n",
      "memory usage: 13.7+ KB\n"
     ]
    }
   ],
   "source": [
    "# removing missing data\n",
    "regression_data = regression_data.dropna()\n",
    "regression_data.info()"
   ]
  },
  {
   "cell_type": "markdown",
   "metadata": {},
   "source": [
    "To obtain the new columns for the regression, we will need to make maniupulations with the columns that we have in `regression_data`, like converting to strings to date and making classifications according to day of week. We will make use of `lambda functions` + `apply` method, as teached in this [post](https://towardsdatascience.com/apply-and-lambda-usage-in-pandas-b13a1ea037f7) (Agarwal, 2019).\n",
    "\n",
    "1 - Create weekend_or_weekday variable <br>\n",
    "In `datetime` pandas, weekdays are numbered from 0 to 4, and weekeend as 5 and 6. We will use this information to make our classification.  "
   ]
  },
  {
   "cell_type": "code",
   "execution_count": 52,
   "metadata": {},
   "outputs": [],
   "source": [
    "# convert date to datetime and add column for weekday\n",
    "regression_data.loc[:,'date'] = pd.to_datetime(regression_data.loc[:,'date'], format = '%Y-%m-%d')\n",
    "regression_data.loc[:,'day_of_week'] = regression_data.loc[:,'date'].dt.weekday\n",
    "\n",
    "# classify in weekday_or_weekend\n",
    "test_weekday = lambda x : 1 if (x > 4) else 0\n",
    "regression_data.loc[:,'weekend_or_weekday'] = regression_data.loc[:,'day_of_week'].apply(test_weekday)"
   ]
  },
  {
   "cell_type": "markdown",
   "metadata": {},
   "source": [
    "2 -  Create time_of_day variable<br>\n",
    "We know that breakfast is served on the morning and so on and so forth. This will be our trigger for classification."
   ]
  },
  {
   "cell_type": "code",
   "execution_count": 53,
   "metadata": {},
   "outputs": [],
   "source": [
    "# classify in time_of_day\n",
    "test_hour = lambda x : 0 if (x == 'Breakfast') else (1 if x == 'Lunch' else 2)\n",
    "regression_data.loc[:,'time_of_day'] = regression_data.loc[:,'order_type'].apply(test_hour)"
   ]
  },
  {
   "cell_type": "markdown",
   "metadata": {},
   "source": [
    "3 -  Multiply delivery_fee of loyal custumers<br>\n",
    "Every customer that is loyal (customerHasloyalty? == 1) will have its price multiplied by two (to find the original price, without discount).  "
   ]
  },
  {
   "cell_type": "code",
   "execution_count": 54,
   "metadata": {},
   "outputs": [],
   "source": [
    "# Find price from loyaltity\n",
    "modified_loyalty = regression_data[regression_data['customerHasloyalty?'] == 1]['delivery_fee'].apply(lambda x: x*2)\n",
    "regression_data.loc[modified_loyalty.index, 'delivery_fee'] = modified_loyalty"
   ]
  },
  {
   "cell_type": "markdown",
   "metadata": {},
   "source": [
    "4 - Create a separated dataframe for each branch <br>\n",
    "Each branch has a different regression, so, in order to fit them, we divide our `regression_data` into `regression_ns`, `regression_bk` and `regression_tp`. These dataframes only need the information about the `delivery_fee`, `distance`,`time_of_day` and `weekend_or_weekday` to help us find out the regression parameters."
   ]
  },
  {
   "cell_type": "code",
   "execution_count": 55,
   "metadata": {},
   "outputs": [],
   "source": [
    "reg_vars = ['delivery_fee','time_of_day', 'weekend_or_weekday', 'distance_to_customer_KM']\n",
    "regression_ns = regression_data[regression_data['branch_code']=='NS'][reg_vars]\n",
    "regression_bk = regression_data[regression_data['branch_code']=='BK'][reg_vars]\n",
    "regression_tp = regression_data[regression_data['branch_code']=='TP'][reg_vars]"
   ]
  },
  {
   "cell_type": "markdown",
   "metadata": {},
   "source": [
    "<b> Calculating delivery_fee linear regression </b><br>\n",
    "We now have all the data we need to retrieve the coefficients from our linear equations of delivery fee. We use the [sklearn](https://scikit-learn.org/stable/modules/generated/sklearn.linear_model.LinearRegression.html#sklearn.linear_model.LinearRegression.predict) (sklearn Project, 2019) linear regression to fit a regression to our data points and make the predictions ahead."
   ]
  },
  {
   "cell_type": "code",
   "execution_count": 56,
   "metadata": {},
   "outputs": [
    {
     "name": "stdout",
     "output_type": "stream",
     "text": [
      "R2 :  0.9722733846670395\n",
      "R2 :  0.9790661806314702\n",
      "R2 :  0.939977433030309\n"
     ]
    }
   ],
   "source": [
    "lm_delivery = [LinearRegression()]*3 #instantiate\n",
    "i = 0\n",
    "for reg in [regression_ns, regression_bk, regression_tp]:\n",
    "    X = reg[[x for x in reg.columns if x != 'delivery_fee']]\n",
    "    Y = reg['delivery_fee']\n",
    "    reg  = lm_delivery[i].fit(X, Y) #fit\n",
    "    # print R squared\n",
    "    print(\"R2 : \", reg.score(X,Y)) \n",
    "    i +=1"
   ]
  },
  {
   "cell_type": "markdown",
   "metadata": {},
   "source": [
    "As we can see in the R squared above, we have excelent fits for all branches. We are going to use the models to find out if the delivery fee we have in our data is consistent with the predicted value of the linear regression. If it is not, it means that our `customerHasloyalty?` variable is wrong.\n",
    "\n",
    "First, we will need to follow the same steps as before (convert `date` to find weekday, create `weekday_or_weekend` and `time_of_day` columns):"
   ]
  },
  {
   "cell_type": "code",
   "execution_count": 57,
   "metadata": {},
   "outputs": [],
   "source": [
    "regression_data = dirty_data.loc[:,['date','order_type','branch_code','customerHasloyalty?',\n",
    "                                      'delivery_fee', 'distance_to_customer_KM']]\n",
    "\n",
    "# convert date to datetime and add column for weekday\n",
    "regression_data.loc[:,'date'] = pd.to_datetime(regression_data.loc[:,'date'], format = '%Y-%m-%d')\n",
    "regression_data.loc[:,'day_of_week'] = regression_data.loc[:,'date'].dt.weekday\n",
    "\n",
    "# classify in weekday_or_weekend\n",
    "test_weekday = lambda x : 1 if (x > 4) else 0\n",
    "regression_data.loc[:,'weekend_or_weekday'] = regression_data.loc[:,'day_of_week'].apply(test_weekday)\n",
    "\n",
    "# classify in time_of_day\n",
    "test_hour = lambda x : 0 if (x == 'Breakfast') else (1 if x == 'Lunch' else 2)\n",
    "regression_data.loc[:,'time_of_day'] = regression_data.loc[:,'order_type'].apply(test_hour)"
   ]
  },
  {
   "cell_type": "markdown",
   "metadata": {},
   "source": [
    "We also create one dataframe per branch to make the predictions:"
   ]
  },
  {
   "cell_type": "code",
   "execution_count": 58,
   "metadata": {},
   "outputs": [],
   "source": [
    "# separating the dataframes by branch\n",
    "reg_vars = ['delivery_fee', 'time_of_day', 'weekend_or_weekday', 'distance_to_customer_KM','customerHasloyalty?']\n",
    "regression_ns = regression_data[regression_data['branch_code']=='NS'][reg_vars]\n",
    "regression_bk = regression_data[regression_data['branch_code']=='BK'][reg_vars]\n",
    "regression_tp = regression_data[regression_data['branch_code']=='TP'][reg_vars]"
   ]
  },
  {
   "cell_type": "markdown",
   "metadata": {},
   "source": [
    "Then, we apply the regressions fitted above and compare their result with the given `delivery_fee`."
   ]
  },
  {
   "cell_type": "code",
   "execution_count": 59,
   "metadata": {},
   "outputs": [],
   "source": [
    "# fitting the values:\n",
    "i = 0\n",
    "for reg in [regression_ns, regression_bk, regression_tp]:\n",
    "    X = reg[[x for x in reg.columns if x not in ['delivery_fee','customerHasloyalty?']]]\n",
    "    Y = reg['delivery_fee']\n",
    "    reg['predict']  = lm_delivery[i].predict(X) #fit\n",
    "    reg['predict_loyalty'] = reg['predict']/2\n",
    "    i +=1"
   ]
  },
  {
   "cell_type": "markdown",
   "metadata": {},
   "source": [
    "As we have an R-squared > 93% for all branches, we can expect that if the `delivery_fee` is more distant from the `predict` than it is from `predict`/2, it means the customer has discount."
   ]
  },
  {
   "cell_type": "code",
   "execution_count": 60,
   "metadata": {},
   "outputs": [
    {
     "name": "stdout",
     "output_type": "stream",
     "text": [
      "Wrong Loyalty:  10\n",
      "Wrong Loyalty:  13\n",
      "Wrong Loyalty:  14\n"
     ]
    }
   ],
   "source": [
    "for reg in [regression_ns, regression_bk, regression_tp]:\n",
    "    reg['loyalty'] = 0\n",
    "    loyalty_condition = abs(reg['predict_loyalty']-reg['delivery_fee']) < abs(reg['predict']-reg['delivery_fee'])\n",
    "    reg.loc[loyalty_condition, 'loyalty'] = 1\n",
    "    # how many mismatches?\n",
    "    print(\"Wrong Loyalty: \",sum(reg['customerHasloyalty?'] != reg['loyalty']))                                   "
   ]
  },
  {
   "cell_type": "markdown",
   "metadata": {},
   "source": [
    "So, we can see that for the branches NS, BK and TP the there are 10, 13 and 14 data errors for the `customerHasloyalty?` variables, respectively. Now, we will replace them by the correct values:"
   ]
  },
  {
   "cell_type": "code",
   "execution_count": 61,
   "metadata": {},
   "outputs": [],
   "source": [
    "dirty_data.loc[regression_ns.index, 'customerHasloyalty?'] = regression_ns.loyalty\n",
    "dirty_data.loc[regression_bk.index, 'customerHasloyalty?'] = regression_bk.loyalty\n",
    "dirty_data.loc[regression_tp.index, 'customerHasloyalty?'] = regression_tp.loyalty"
   ]
  },
  {
   "cell_type": "markdown",
   "metadata": {},
   "source": [
    "Now that we finished our analysis and have fixed the errors in the dirty data file, we save it as `dirty_data_solution.csv`."
   ]
  },
  {
   "cell_type": "code",
   "execution_count": 62,
   "metadata": {},
   "outputs": [],
   "source": [
    "dirty_data.to_csv('output/dirty_data_solution.csv')"
   ]
  },
  {
   "cell_type": "markdown",
   "metadata": {},
   "source": [
    "# 4. Outliers\n",
    "\n",
    "Detect and remove outlier rows in `output/outlier_data.csv` (outliers are to be found w.r.t. `delivery_fee` attribute)."
   ]
  },
  {
   "cell_type": "markdown",
   "metadata": {},
   "source": [
    "## 4.1. Analysing delivery_fee"
   ]
  },
  {
   "cell_type": "code",
   "execution_count": 63,
   "metadata": {},
   "outputs": [
    {
     "data": {
      "image/png": "[encoded data removed]",
      "text/plain": [
       "<Figure size 864x288 with 2 Axes>"
      ]
     },
     "metadata": {
      "needs_background": "light"
     },
     "output_type": "display_data"
    }
   ],
   "source": [
    "# plotting\n",
    "fig, (ax1, ax2)  = plt.subplots(1,2, figsize=(12,4))\n",
    "ax1.boxplot(outlier_data['delivery_fee'], vert =0 )\n",
    "ax1.set_title('Delivery Fee Boxplot')\n",
    "ax2.hist(outlier_data['delivery_fee'], bins=50)\n",
    "ax2.set_title('Delivery Fee Histogram')\n",
    "plt.show()"
   ]
  },
  {
   "cell_type": "markdown",
   "metadata": {},
   "source": [
    "We can see a lot of outliers, specially between 6 and 8. However, we can not treat it as a univariate problem, as the delivery fee is a function of other variables that might be consistent with this result. \n",
    "\n",
    "## 4.2. Linear Regression Multivariate Residual Analysis\n",
    "\n",
    "We will adopt a multiple regression residual analysis [approach](https://www.jmp.com/en_us/statistics-knowledge-portal/what-is-multiple-regression/mlr-residual-analysis-and-outliers.html) (Statistics Knowledge Portal, 2019). We know that the delivery fee is calculated using a different method for each branch and depends linearly on: `weekend_or_weekday`, `time_of_day` and `distance_to_customer_KM`. If a customer has loyalty, they get a 50% discount on delivery fee. \n",
    "\n",
    "First, we will replicate the steps adopted to find dirty data in `customerHasLoyalty?` to generate the `weekend_or_weekday` and `time_of_day` variables:"
   ]
  },
  {
   "cell_type": "code",
   "execution_count": 64,
   "metadata": {},
   "outputs": [],
   "source": [
    "regression_data = outlier_data.loc[:,['date','order_type','branch_code','customerHasloyalty?',\n",
    "                                      'delivery_fee', 'distance_to_customer_KM']]\n",
    "\n",
    "# convert date to datetime and add column for weekday\n",
    "regression_data.loc[:,'date'] = pd.to_datetime(regression_data.loc[:,'date'], format = '%Y-%m-%d')\n",
    "regression_data.loc[:,'day_of_week'] = regression_data.loc[:,'date'].dt.weekday\n",
    "\n",
    "# classify in weekday_or_weekend\n",
    "test_weekday = lambda x : 1 if (x > 4) else 0\n",
    "regression_data.loc[:,'weekend_or_weekday'] = regression_data.loc[:,'day_of_week'].apply(test_weekday)\n",
    "\n",
    "# classify in time_of_day\n",
    "test_hour = lambda x : 0 if (x == 'Breakfast') else (1 if x == 'Lunch' else 2)\n",
    "regression_data.loc[:,'time_of_day'] = regression_data.loc[:,'order_type'].apply(test_hour)\n",
    "\n",
    "# Find price from loyaltity\n",
    "modified_loyalty = regression_data[regression_data['customerHasloyalty?'] == 1]['delivery_fee'].apply(lambda x: x*2)\n",
    "regression_data.loc[modified_loyalty.index, 'delivery_fee'] = modified_loyalty"
   ]
  },
  {
   "cell_type": "markdown",
   "metadata": {},
   "source": [
    "We also create one dataframe per branch to fit the linear models:"
   ]
  },
  {
   "cell_type": "code",
   "execution_count": 65,
   "metadata": {},
   "outputs": [],
   "source": [
    "# separating the dataframes by branch\n",
    "reg_vars = ['delivery_fee', 'time_of_day', 'weekend_or_weekday', 'distance_to_customer_KM','customerHasloyalty?']\n",
    "regression_ns = regression_data[regression_data['branch_code']=='NS'][reg_vars]\n",
    "regression_bk = regression_data[regression_data['branch_code']=='BK'][reg_vars]\n",
    "regression_tp = regression_data[regression_data['branch_code']=='TP'][reg_vars]"
   ]
  },
  {
   "cell_type": "markdown",
   "metadata": {},
   "source": [
    "<b> Calculating delivery_fee linear regression </b><br>\n",
    "We now have all the data we need to retrieve the coefficients from our linear equations of delivery fee. We use the [sklearn](https://scikit-learn.org/stable/modules/generated/sklearn.linear_model.LinearRegression.html#sklearn.linear_model.LinearRegression.predict) (sklearn Project, 2019) linear regression to fit a regression to our data points and calculate the residuals as: <br>\n",
    "$$ residual = delivery_{}fee_{predicted} - delivery_{}fee_{observed}$$"
   ]
  },
  {
   "cell_type": "code",
   "execution_count": 66,
   "metadata": {},
   "outputs": [
    {
     "name": "stdout",
     "output_type": "stream",
     "text": [
      "R2   NS  :  0.3051771885220085\n",
      "R2   BK  :  0.4216110146120935\n",
      "R2   TP  :  0.2574454163220312\n"
     ]
    }
   ],
   "source": [
    "lm_delivery = [LinearRegression()]*3 #instantiate\n",
    "branches = [\"NS\", \"BK\", \"TP\"]\n",
    "i = 0\n",
    "for reg in [regression_ns, regression_bk, regression_tp]:\n",
    "    X = reg[['time_of_day', 'weekend_or_weekday', 'distance_to_customer_KM']]\n",
    "    Y = reg['delivery_fee']\n",
    "    lm_delivery[i]  = lm_delivery[i].fit(X, Y) #fit\n",
    "    reg['predict']  = lm_delivery[i].predict(X) #predict\n",
    "    # calculate residuals\n",
    "    reg['residual'] = reg['delivery_fee'] - reg['predict']\n",
    "    # print R squared\n",
    "    print(\"R2  \", branches[i],\" : \",lm_delivery[i].score(X,Y)) \n",
    "    i +=1"
   ]
  },
  {
   "cell_type": "markdown",
   "metadata": {},
   "source": [
    "We can see that the R squared of of branches is really low (less than half of what we found when analysing the missing data). That happens due to the present of outliers. Now, lets analyse the residuals:"
   ]
  },
  {
   "cell_type": "code",
   "execution_count": 67,
   "metadata": {},
   "outputs": [
    {
     "data": {
      "image/png": "[encoded data removed]",
      "text/plain": [
       "<Figure size 1152x288 with 3 Axes>"
      ]
     },
     "metadata": {
      "needs_background": "light"
     },
     "output_type": "display_data"
    }
   ],
   "source": [
    "fig, (ax1, ax2, ax3)  = plt.subplots(1,3, figsize=(16,4))\n",
    "ax1.boxplot(regression_ns['residual'])\n",
    "ax1.set_title('Residuals NS')\n",
    "ax2.boxplot(regression_bk['residual'])\n",
    "ax2.set_title('Residuals BK')\n",
    "ax3.boxplot(regression_tp['residual'])\n",
    "ax3.set_title('Residuals TP')\n",
    "plt.show()"
   ]
  },
  {
   "cell_type": "markdown",
   "metadata": {},
   "source": [
    "The outliers are very well delimited for all three branches, as we can observe in the boxplots above. \n",
    "\n",
    "## 4.3. Removing the Outliers\n",
    "\n",
    "Now, lets clean our dataset eliminating them with the previously defined `extract_outlier()` [function](https://stackoverflow.com/questions/23199796/detect-and-exclude-outliers-in-pandas-data-frame) (StackOverFlow user2708149, 2017) and check how does our regressions look like after this cleaning."
   ]
  },
  {
   "cell_type": "code",
   "execution_count": 68,
   "metadata": {},
   "outputs": [
    {
     "name": "stdout",
     "output_type": "stream",
     "text": [
      "Number of Outliers   NS  :  18\n",
      "Number of Outliers   BK  :  21\n",
      "Number of Outliers   TP  :  12\n"
     ]
    },
    {
     "data": {
      "image/png": "[encoded data removed]",
      "text/plain": [
       "<Figure size 1152x288 with 3 Axes>"
      ]
     },
     "metadata": {
      "needs_background": "light"
     },
     "output_type": "display_data"
    }
   ],
   "source": [
    "outlier = {} # dictionary with outlier index per branch\n",
    "branches = [\"NS\", \"BK\", \"TP\"]\n",
    "i=0\n",
    "for reg in [regression_ns, regression_bk, regression_tp]:\n",
    "    outlier[branches[i]] = extract_outlier(reg, 'residual').index\n",
    "    print(\"Number of Outliers  \", branches[i],\" : \", len(outlier[branches[i]]))\n",
    "    # removing outliers\n",
    "    reg.drop(outlier[branches[i]], inplace=True)\n",
    "    i+=1\n",
    "    \n",
    "# checking residuals\n",
    "fig, (ax1, ax2, ax3)  = plt.subplots(1,3, figsize=(16,4))\n",
    "ax1.boxplot(regression_ns['residual'])\n",
    "ax1.set_title('Residuals NS')\n",
    "ax2.boxplot(regression_bk['residual'])\n",
    "ax2.set_title('Residuals BK')\n",
    "ax3.boxplot(regression_tp['residual'])\n",
    "ax3.set_title('Residuals TP')\n",
    "plt.show()"
   ]
  },
  {
   "cell_type": "markdown",
   "metadata": {},
   "source": [
    "Much better ! Let's check out new R squared of the regressions disregarding the outliers:"
   ]
  },
  {
   "cell_type": "code",
   "execution_count": 69,
   "metadata": {},
   "outputs": [
    {
     "name": "stdout",
     "output_type": "stream",
     "text": [
      "R2   NS  :  0.9641206593560986\n",
      "R2   BK  :  0.9837588054378266\n",
      "R2   TP  :  0.9457465670959625\n"
     ]
    }
   ],
   "source": [
    "lm_delivery = [LinearRegression()]*3 #instantiate\n",
    "i = 0\n",
    "branches = [\"NS\", \"BK\", \"TP\"]\n",
    "for reg in [regression_ns, regression_bk, regression_tp]:\n",
    "    X = reg[['time_of_day', 'weekend_or_weekday','distance_to_customer_KM']]\n",
    "    Y = reg['delivery_fee']\n",
    "    lm_delivery[i]  = lm_delivery[i].fit(X, Y) #fit\n",
    "    # print R squared\n",
    "    print(\"R2  \", branches[i],\" : \",lm_delivery[i].score(X,Y)) \n",
    "    i +=1"
   ]
  },
  {
   "cell_type": "markdown",
   "metadata": {},
   "source": [
    "Huge improvement in the R2 coefficient ! Now, it's only left to exclude this outliers from our `outlier_data`, which is easily done by dropping their correspondent indexes:"
   ]
  },
  {
   "cell_type": "code",
   "execution_count": 70,
   "metadata": {},
   "outputs": [
    {
     "name": "stdout",
     "output_type": "stream",
     "text": [
      "Number of Rows Originally in Outlier Data :  500\n",
      "Number of Rows After Removing Outliers :  449\n"
     ]
    }
   ],
   "source": [
    "# all outliers index:\n",
    "outlier_index = list(outlier['NS']) + list(outlier['BK']) + list(outlier['TP'])\n",
    "# number of rows before:\n",
    "print(\"Number of Rows Originally in Outlier Data : \",len(outlier_data))\n",
    "# eliminating outliers:\n",
    "outlier_data.drop(outlier_index, inplace=True)\n",
    "# number of rows after:\n",
    "print(\"Number of Rows After Removing Outliers : \",len(outlier_data))"
   ]
  },
  {
   "cell_type": "markdown",
   "metadata": {},
   "source": [
    "Now that we finished our analysis and have removed the outliers, we save it as `output/outlier_data_solution.csv`."
   ]
  },
  {
   "cell_type": "code",
   "execution_count": 71,
   "metadata": {},
   "outputs": [],
   "source": [
    "# dropping the new columns added only to support the analysis (distance, delivery_nodes, branch_nodes)\n",
    "outlier_data.drop(columns =['distance', 'delivery_nodes', 'branch_nodes'], inplace=True)\n",
    "# saving\n",
    "outlier_data.to_csv('output/outlier_data_solution.csv')"
   ]
  },
  {
   "cell_type": "markdown",
   "metadata": {},
   "source": [
    "# 5.  Missing Data\n",
    "\n",
    "Now, we will explore and make imputations in the table `missing_data` that is supposed to have missing values in some columns.\n",
    "Our first step is to perform explorations using the method `.info()` that will return the number of non-null rows in each column."
   ]
  },
  {
   "cell_type": "code",
   "execution_count": 72,
   "metadata": {},
   "outputs": [
    {
     "name": "stdout",
     "output_type": "stream",
     "text": [
      "<class 'pandas.core.frame.DataFrame'>\n",
      "Index: 500 entries, ORDI05516 to ORDA08079\n",
      "Data columns (total 11 columns):\n",
      "date                       500 non-null object\n",
      "time                       500 non-null object\n",
      "order_type                 500 non-null object\n",
      "branch_code                400 non-null object\n",
      "order_items                500 non-null object\n",
      "order_price                500 non-null float64\n",
      "customer_lat               500 non-null float64\n",
      "customer_lon               500 non-null float64\n",
      "customerHasloyalty?        500 non-null int64\n",
      "distance_to_customer_KM    450 non-null float64\n",
      "delivery_fee               450 non-null float64\n",
      "dtypes: float64(5), int64(1), object(5)\n",
      "memory usage: 35.2+ KB\n"
     ]
    }
   ],
   "source": [
    "missing_data.info()"
   ]
  },
  {
   "cell_type": "markdown",
   "metadata": {},
   "source": [
    "There are null values in 3 columns: `branch_code`, `distance_to_customer_KM` and `delivery_fee`. This are actually great news!\n",
    "We will be able to find all missing values without much difficulties. Here is why:\n",
    "1. The column `branch_code` is fully dependent on the index(`order_id`). We have explored this relation in the point 3.3.1. Therefore, we will make use of the index to find all branch_codes. \n",
    "2. The `distance_to_customer_KM` is a function of `branch_code` (through their locations) and `customer_lat` and `customer_lon`. After step 1 we will be able to find it without further problems. \n",
    "3. Finally, we have already developed a linear regression to find the `delivery fee`. Once step 1 and 2 are finalized we will calculate `delivery fee`.\n",
    "\n",
    "## 5.1. branch_code\n",
    "\n",
    "Lets start by step1. We will make use of the dictionary we have already created `dict_id_branch`. After creating a column that has only the fourth letter of the *order_id* called *new_id* we will replace missing values by the `branch_code` equivalent. <br>\n",
    "Also, a regex pattern `ORD([A-Z])` will be used to extract the 4th character."
   ]
  },
  {
   "cell_type": "code",
   "execution_count": 73,
   "metadata": {},
   "outputs": [],
   "source": [
    "pattern_id = r'ORD([A-Z])'\n",
    "extract_id = lambda x: re.search(pattern_id, x).group(1)\n",
    "missing_data['new_id'] = missing_data.index.map(extract_id)\n",
    "missing_data['branch_code'] = missing_data['new_id'].replace(dict_id_branch)"
   ]
  },
  {
   "cell_type": "markdown",
   "metadata": {},
   "source": [
    "## 5.2. distance_to_customer_KM\n",
    "\n",
    "Now we will work on step2. We already have elaborated a graph with all nodes, so it will be a simple application of previous works. We will make use of the following objects:<br>\n",
    "- `G:` The graph that contains all nodes and edges in the city.\n",
    "- `dict_node:` A dictionary with latitude and longitude as key and node as items (all items in the graph).\n",
    "- `dict_branch_node:` A dictionary with branch_code as key and node as items.\n",
    "\n",
    "We will calculate all distances as before and replace then on the dataframe, eliminating all null values. \n"
   ]
  },
  {
   "cell_type": "code",
   "execution_count": 74,
   "metadata": {},
   "outputs": [],
   "source": [
    "missing_customer_coordinates = list(zip(missing_data['customer_lat'], missing_data['customer_lon']))\n",
    "missing_data['delivery_nodes'] = [dict_node[coor] for coor in missing_customer_coordinates]\n",
    "missing_data['branch_nodes'] = [dict_branch_node[coor] for coor in missing_data.branch_code]\n",
    "missing_data['distance_to_customer_KM'] = missing_data.apply(\n",
    "    lambda row: nx.dijkstra_path_length(G, row.delivery_nodes, row.branch_nodes)/1000, axis=1)"
   ]
  },
  {
   "cell_type": "markdown",
   "metadata": {},
   "source": [
    "## 5.3. delivery_fee\n",
    "Finally, we are in step 3. Even thought we have already worked on the `delivery_fee` column in both dirty data and outlier files, we will use all these information together with the missing data (non-missing rows) here. We fit the same regression model here of:\n",
    "$$delivery_{fee} = \\alpha + \\beta_1*distance_{}to_{}customer_{}KM+\\beta_2*time_{}of_{}day+\\beta_3*weekend_{}or_{}weekday$$\n",
    "Even though it is not necessary, we'll recalibrate the model using all the data we have (now we have already imputed some data, deleted outliers and fixed error and can estimate our parameters with a more complete dataset). FInally, we use it to impute the missing values here. "
   ]
  },
  {
   "cell_type": "code",
   "execution_count": 75,
   "metadata": {},
   "outputs": [],
   "source": [
    "# getting all available data and relevant columns to work on the regression\n",
    "regression_data = missing_data.loc[:,['date','order_type','branch_code','customerHasloyalty?',\n",
    "                                      'delivery_fee', 'distance_to_customer_KM']].append(\n",
    "    outlier_data.loc[:,['date','order_type','branch_code','customerHasloyalty?',\n",
    "                                      'delivery_fee', 'distance_to_customer_KM']]).append(\n",
    "    dirty_data.loc[:,['date','order_type','branch_code','customerHasloyalty?',\n",
    "                                      'delivery_fee', 'distance_to_customer_KM']])"
   ]
  },
  {
   "cell_type": "markdown",
   "metadata": {},
   "source": [
    "We need to generate the `weekend_or_weekday` and `time_of_day` columns and treat the loyalty issue the same way as we did before."
   ]
  },
  {
   "cell_type": "code",
   "execution_count": 76,
   "metadata": {},
   "outputs": [],
   "source": [
    "# convert date to datetime and add column for weekday\n",
    "regression_data.loc[:,'date'] = pd.to_datetime(regression_data.loc[:,'date'], format = '%Y-%m-%d')\n",
    "regression_data.loc[:,'day_of_week'] = regression_data.loc[:,'date'].dt.weekday\n",
    "\n",
    "# classify in weekday_or_weekend\n",
    "test_weekday = lambda x : 1 if (x > 4) else 0\n",
    "regression_data.loc[:,'weekend_or_weekday'] = regression_data.loc[:,'day_of_week'].apply(test_weekday)\n",
    "\n",
    "# classify in time_of_day\n",
    "test_hour = lambda x : 0 if (x == 'Breakfast') else (1 if x == 'Lunch' else 2)\n",
    "regression_data.loc[:,'time_of_day'] = regression_data.loc[:,'order_type'].apply(test_hour)\n",
    "\n",
    "# Find price from loyaltity\n",
    "modified_loyalty = regression_data[regression_data['customerHasloyalty?'] == 1]['delivery_fee'].apply(lambda x: x*2)\n",
    "regression_data.loc[modified_loyalty.index, 'delivery_fee'] = modified_loyalty"
   ]
  },
  {
   "cell_type": "markdown",
   "metadata": {},
   "source": [
    "We also create one dataframe per branch to fit the linear models:"
   ]
  },
  {
   "cell_type": "code",
   "execution_count": 77,
   "metadata": {},
   "outputs": [],
   "source": [
    "# separating the dataframes by branch\n",
    "reg_vars = ['delivery_fee', 'time_of_day', 'weekend_or_weekday', 'distance_to_customer_KM','customerHasloyalty?']\n",
    "regression_ns = regression_data[regression_data['branch_code']=='NS'][reg_vars].dropna()\n",
    "regression_bk = regression_data[regression_data['branch_code']=='BK'][reg_vars].dropna()\n",
    "regression_tp = regression_data[regression_data['branch_code']=='TP'][reg_vars].dropna()"
   ]
  },
  {
   "cell_type": "markdown",
   "metadata": {},
   "source": [
    "<b> Calculating delivery_fee linear regression </b><br>\n",
    "We now have all the data we need to retrieve the coefficients from our linear equations of delivery fee. We use the [sklearn](https://scikit-learn.org/stable/modules/generated/sklearn.linear_model.LinearRegression.html#sklearn.linear_model.LinearRegression.predict) (sklearn Project, 2019) linear regression to fit a regression to our data points and make the predictions ahead."
   ]
  },
  {
   "cell_type": "code",
   "execution_count": 78,
   "metadata": {},
   "outputs": [
    {
     "name": "stdout",
     "output_type": "stream",
     "text": [
      "R2   NS  :  0.9667658237106492\n",
      "R2   BK  :  0.9799893722104978\n",
      "R2   TP  :  0.9434524886034308\n"
     ]
    }
   ],
   "source": [
    "lm_delivery = [LinearRegression()]*3 #instantiate\n",
    "i = 0\n",
    "branches = [\"NS\", \"BK\", \"TP\"]\n",
    "for reg in [regression_ns, regression_bk, regression_tp]:\n",
    "    X = reg[['time_of_day', 'weekend_or_weekday', 'distance_to_customer_KM']]\n",
    "    Y = reg['delivery_fee']\n",
    "    reg  = lm_delivery[i].fit(X, Y) #fit\n",
    "    # print R squared\n",
    "    print(\"R2  \", branches[i],\" : \",lm_delivery[i].score(X,Y)) \n",
    "    i +=1"
   ]
  },
  {
   "cell_type": "markdown",
   "metadata": {},
   "source": [
    "Excelent fits ! (All R squared > 94%).\n",
    "\n",
    "Now, we apply the regressions fitted above to the missing data rows:"
   ]
  },
  {
   "cell_type": "code",
   "execution_count": 79,
   "metadata": {},
   "outputs": [],
   "source": [
    "reg_cols = ['delivery_fee', 'time_of_day', 'weekend_or_weekday', 'distance_to_customer_KM','customerHasloyalty?']\n",
    "na_data = regression_data[regression_data.isnull().any(axis=1)]\n",
    "# how many missing data?\n",
    "len(na_data)\n",
    "# divide by branch\n",
    "regression_ns = na_data[na_data['branch_code']=='NS'][reg_cols]\n",
    "regression_bk = na_data[na_data['branch_code']=='BK'][reg_cols]\n",
    "regression_tp = na_data[na_data['branch_code']=='TP'][reg_cols]"
   ]
  },
  {
   "cell_type": "markdown",
   "metadata": {},
   "source": [
    "Predict the missing values of `delivery_fee`:"
   ]
  },
  {
   "cell_type": "code",
   "execution_count": 80,
   "metadata": {},
   "outputs": [],
   "source": [
    "# fitting the values:\n",
    "i = 0\n",
    "for reg in [regression_ns, regression_bk, regression_tp]:\n",
    "    X = reg[[x for x in reg.columns if x not in ['delivery_fee','customerHasloyalty?']]]\n",
    "    reg['delivery_fee']  = lm_delivery[i].predict(X) #fit\n",
    "    # taking into acount loyalty discount\n",
    "    reg.loc[reg['customerHasloyalty?'] == 1,'delivery_fee'] = reg.loc[reg['customerHasloyalty?'] == 1,'delivery_fee']/2\n",
    "    i +=1"
   ]
  },
  {
   "cell_type": "markdown",
   "metadata": {},
   "source": [
    "And finally, make the imputations:"
   ]
  },
  {
   "cell_type": "code",
   "execution_count": 81,
   "metadata": {},
   "outputs": [],
   "source": [
    "# imputing the predicted values\n",
    "missing_data.loc[regression_ns.index,'delivery_fee'] = regression_ns['delivery_fee']\n",
    "missing_data.loc[regression_bk.index,'delivery_fee'] = regression_bk['delivery_fee']\n",
    "missing_data.loc[regression_tp.index,'delivery_fee'] = regression_tp['delivery_fee']"
   ]
  },
  {
   "cell_type": "markdown",
   "metadata": {},
   "source": [
    "Now that we finished our analysis and have imputed all missing values in the missing data file, we save it as `missing_data_solution.csv`."
   ]
  },
  {
   "cell_type": "code",
   "execution_count": 82,
   "metadata": {},
   "outputs": [],
   "source": [
    "# dropping the new columns added only to support the analysis (distance, delivery_nodes, branch_nodes)\n",
    "missing_data.drop(columns =['new_id', 'delivery_nodes', 'branch_nodes'], inplace=True)\n",
    "# saving\n",
    "missing_data.to_csv('output/missing_data_solution.csv')"
   ]
  },
  {
   "cell_type": "markdown",
   "metadata": {},
   "source": [
    "# 6. Summary\n",
    "This assessment measured the understanding of data cleasing techniques in the Python programming language. The main outcomes achieved while applying these techniques were:\n",
    "\n",
    "- **Data Exploration**. Finding dirty data can be quite challenging when not much clues are given. Some of the tools that we used to explore the data were:\n",
    "    - `re library:` A valuable resource to deal with strings and identify patterns. It was specially helpful to find out the patern in `order_id` and make it possible to relate the 4th letter with `branch_code`.\n",
    "    - `Boxplots:` When trying to understand a numerical distribution and spot outliers, it was a very useful tool.\n",
    "    - `Descriptive and Exploration Functions:` *pd.crosstab*, *.info()* and *.value_counts()* were a few of the functions that were extensively used to give insights or confirm that a correct measure was taken.\n",
    "- **Graphs and Shortest Path**. By using the library `Networkx`, a graph representing the region that comprises the restaunts and the orders was generated. Graphs are composed by *nodes*, *edges* and *wheights(distances)*. With the functions `dijkstra_path_length()`, it was possible to access the optimized path between each branch and the delivery adress.\n",
    "- **Data Imputation**. Using the descriptive function `.info()` the missing values were imidiately quantified. Hopefully, we found a straitgh path to replace missing values using *regressions (from delivery fee)*, *direct replacement (branch_code)* and the *dijkstra algorithm (distance)*\n",
    "- **Linear Regression**. Fitting linear models with `sklearn.linear_model.LinearRegression` and making an multivariate residuals analysis for outliers. \n",
    "- **Outlier Extraction**. Identifying outliers can be a very challenging task, but as we knew which methodology to follow we only needed to analyse the outliers with the linear model for the residuals. A function called *extract_outlier* was used in this assignment to remove the residuals outliers based on the 1.5*IQR rule .\n",
    "- **Working with Dates**. Pandas has the function `datetime` that can be used for conversion of datatypes into dates. However when working in many different formats it is not possible to use it. Each format mas be treated individually.\n",
    "- **Linear Algebra**. We have used `numpy.linalg` to solve a system of linear equations when retriving the menus. It was a challenging and very useful part of this assignment. \n"
   ]
  },
  {
   "cell_type": "markdown",
   "metadata": {},
   "source": [
    "# References\n",
    "\n",
    "- Agarwal, Rahul (2019, July 02). *Apply and Lambda usage in pandas*. Retrieved from\n",
    "https://towardsdatascience.com/apply-and-lambda-usage-in-pandas-b13a1ea037f7\n",
    "\n",
    "\n",
    "- EdChum (2016, April 25). *how to replace an entire column on Pandas.DataFrame* [Response to]. Retrieved from \n",
    "https://stackoverflow.com/questions/36846060/how-to-replace-an-entire-column-on-pandas-dataframe\n",
    "\n",
    "- Jan Goyvaerts - regular-expressions.info. (2019). *Grouping and Capturing*. Retrieved from <br>https://www.regular-expressions.info/brackets.html\n",
    "\n",
    "\n",
    "- LatitudeLongitude.org (2015). *Melbourne, Australia latitude longitude*. Retrieved from <br>https://latitudelongitude.org/au/melbourne/\n",
    "\n",
    "\n",
    "- NetworkX Developers. (2019a). *Creating a graph* .\n",
    "Retrieved from <br> https://networkx.github.io/documentation/networkx-1.10/tutorial/tutorial.html\n",
    "\n",
    "- NetworkX Developers. (2019b). *Overview of NetworkX* .\n",
    "Retrieved from <br> https://networkx.github.io/documentation/stable/\n",
    "\n",
    "\n",
    "- pandas 0.25.1 documentation. (2019). `pandas.Series.value_counts`. Retrieved from <br> https://pandas.pydata.org/pandas-docs/stable/reference/api/pandas.Series.value_counts.html\n",
    "\n",
    "- Python Software Foundation. (2019). `re` *— Regular expression operations*. Retrieved from <br>https://docs.python.org/3/library/re.html\n",
    "\n",
    "- Statistics Knowledge Portal (2019). *Multiple Regression Residual Analysis and Outliers*. Retrieved from\n",
    "https://www.jmp.com/en_us/statistics-knowledge-portal/what-is-multiple-regression/mlr-residual-analysis-and-outliers.html\n",
    "\n",
    "- The `pandas` Project. (2019). *pandas 0.25.1 documentation: pandas.DataFrame.to_csv*. Retrieved from\n",
    "https://pandas.pydata.org/pandas-docs/stable/reference/api/pandas.Series.apply.html#pandas.Series.apply\n",
    "\n",
    "\n",
    "- The `scipy` Project. (2019). *numpy 1.17 documentation: numpy.linalg.solve*. Retrieved from\n",
    "https://docs.scipy.org/doc/numpy/reference/generated/numpy.linalg.solve.html#numpy.linalg.solve\n",
    "\n",
    "\n",
    "- The `sklearn` Project. (2019). *sklearn 0.21.3 documentation: sklearn.linear_model.LinearRegression*. Retrieved from https://scikit-learn.org/stable/modules/generated/sklearn.linear_model.LinearRegression.html#sklearn.linear_model.LinearRegression.predict\n",
    "\n",
    "- Tiwari, Abhishek (2019). *Creating a Pandas Series*. Retrieved from https://www.geeksforgeeks.org/creating-a-pandas-series/\n",
    "\n",
    "- user2708149. (2017, October 14). *Detect and exclude outliers in Pandas data frame?* [Response to]. Retrieved from https://stackoverflow.com/questions/23199796/detect-and-exclude-outliers-in-pandas-data-frame\n",
    "\n",
    "\n",
    "- Varshney, Raju (2019). *Permutation and Combination in Python*. Retrieved from https://www.geeksforgeeks.org/permutation-and-combination-in-python/\n",
    "\n",
    "\n",
    "- Wikimedia Foundation, Inc. (2019). *Graph (discrete mathematics)* .\n",
    "Retrieved from <br> https://en.wikipedia.org/wiki/Graph_(discrete_mathematics)"
   ]
  }
 ],
 "metadata": {
  "kernelspec": {
   "display_name": "Python 3",
   "language": "python",
   "name": "python3"
  },
  "language_info": {
   "codemirror_mode": {
    "name": "ipython",
    "version": 3
   },
   "file_extension": ".py",
   "mimetype": "text/x-python",
   "name": "python",
   "nbconvert_exporter": "python",
   "pygments_lexer": "ipython3",
   "version": "3.7.1"
  }
 },
 "nbformat": 4,
 "nbformat_minor": 2
}
